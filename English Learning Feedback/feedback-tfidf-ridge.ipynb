{
 "cells": [
  {
   "cell_type": "code",
   "execution_count": 1,
   "id": "627bbf78",
   "metadata": {
    "_cell_guid": "b1076dfc-b9ad-4769-8c92-a6c4dae69d19",
    "_uuid": "8f2839f25d086af736a60e9eeb907d3b93b6e0e5",
    "execution": {
     "iopub.execute_input": "2023-07-10T22:39:41.991811Z",
     "iopub.status.busy": "2023-07-10T22:39:41.991396Z",
     "iopub.status.idle": "2023-07-10T22:39:42.006462Z",
     "shell.execute_reply": "2023-07-10T22:39:42.005396Z"
    },
    "papermill": {
     "duration": 0.030547,
     "end_time": "2023-07-10T22:39:42.009126",
     "exception": false,
     "start_time": "2023-07-10T22:39:41.978579",
     "status": "completed"
    },
    "tags": []
   },
   "outputs": [
    {
     "name": "stdout",
     "output_type": "stream",
     "text": [
      "/kaggle/input/feedback-prize-english-language-learning/sample_submission.csv\n",
      "/kaggle/input/feedback-prize-english-language-learning/train.csv\n",
      "/kaggle/input/feedback-prize-english-language-learning/test.csv\n"
     ]
    }
   ],
   "source": [
    "# This Python 3 environment comes with many helpful analytics libraries installed\n",
    "# It is defined by the kaggle/python Docker image: https://github.com/kaggle/docker-python\n",
    "# For example, here's several helpful packages to load\n",
    "\n",
    "import numpy as np # linear algebra\n",
    "import pandas as pd # data processing, CSV file I/O (e.g. pd.read_csv)\n",
    "\n",
    "# Input data files are available in the read-only \"../input/\" directory\n",
    "# For example, running this (by clicking run or pressing Shift+Enter) will list all files under the input directory\n",
    "\n",
    "import os\n",
    "for dirname, _, filenames in os.walk('/kaggle/input'):\n",
    "    for filename in filenames:\n",
    "        print(os.path.join(dirname, filename))\n",
    "\n",
    "# You can write up to 20GB to the current directory (/kaggle/working/) that gets preserved as output when you create a version using \"Save & Run All\" \n",
    "# You can also write temporary files to /kaggle/temp/, but they won't be saved outside of the current session"
   ]
  },
  {
   "cell_type": "code",
   "execution_count": 2,
   "id": "9b431587",
   "metadata": {
    "execution": {
     "iopub.execute_input": "2023-07-10T22:39:42.032041Z",
     "iopub.status.busy": "2023-07-10T22:39:42.031758Z",
     "iopub.status.idle": "2023-07-10T22:39:44.414096Z",
     "shell.execute_reply": "2023-07-10T22:39:44.413115Z"
    },
    "papermill": {
     "duration": 2.39682,
     "end_time": "2023-07-10T22:39:44.416572",
     "exception": false,
     "start_time": "2023-07-10T22:39:42.019752",
     "status": "completed"
    },
    "tags": []
   },
   "outputs": [],
   "source": [
    "import nltk\n",
    "import datetime as dt\n",
    "import seaborn as sns\n",
    "\n",
    "# For Text pre-processing\n",
    "from nltk.corpus import stopwords\n",
    "from nltk.tokenize import word_tokenize\n",
    "from nltk.stem import WordNetLemmatizer\n",
    "\n",
    "# Sklearn\n",
    "# Model\n",
    "from sklearn.model_selection import train_test_split, cross_val_predict, cross_val_score, GridSearchCV\n",
    "from sklearn.feature_extraction.text import TfidfVectorizer\n",
    "from sklearn.linear_model import LogisticRegression, LinearRegression, Ridge, Lasso\n",
    "from sklearn.metrics import mean_squared_error, r2_score\n",
    "from sklearn.ensemble import RandomForestRegressor"
   ]
  },
  {
   "cell_type": "code",
   "execution_count": 3,
   "id": "41d4af10",
   "metadata": {
    "execution": {
     "iopub.execute_input": "2023-07-10T22:39:44.439856Z",
     "iopub.status.busy": "2023-07-10T22:39:44.439547Z",
     "iopub.status.idle": "2023-07-10T22:39:44.630259Z",
     "shell.execute_reply": "2023-07-10T22:39:44.629296Z"
    },
    "papermill": {
     "duration": 0.204776,
     "end_time": "2023-07-10T22:39:44.632599",
     "exception": false,
     "start_time": "2023-07-10T22:39:44.427823",
     "status": "completed"
    },
    "tags": []
   },
   "outputs": [],
   "source": [
    "train_df = pd.read_csv('/kaggle/input/feedback-prize-english-language-learning/train.csv')\n",
    "test_df = pd.read_csv('/kaggle/input/feedback-prize-english-language-learning/test.csv')"
   ]
  },
  {
   "cell_type": "code",
   "execution_count": 4,
   "id": "16c2c68a",
   "metadata": {
    "execution": {
     "iopub.execute_input": "2023-07-10T22:39:44.658245Z",
     "iopub.status.busy": "2023-07-10T22:39:44.657297Z",
     "iopub.status.idle": "2023-07-10T22:39:44.698873Z",
     "shell.execute_reply": "2023-07-10T22:39:44.696786Z"
    },
    "papermill": {
     "duration": 0.055729,
     "end_time": "2023-07-10T22:39:44.701270",
     "exception": false,
     "start_time": "2023-07-10T22:39:44.645541",
     "status": "completed"
    },
    "tags": []
   },
   "outputs": [
    {
     "data": {
      "text/html": [
       "<div>\n",
       "<style scoped>\n",
       "    .dataframe tbody tr th:only-of-type {\n",
       "        vertical-align: middle;\n",
       "    }\n",
       "\n",
       "    .dataframe tbody tr th {\n",
       "        vertical-align: top;\n",
       "    }\n",
       "\n",
       "    .dataframe thead th {\n",
       "        text-align: right;\n",
       "    }\n",
       "</style>\n",
       "<table border=\"1\" class=\"dataframe\">\n",
       "  <thead>\n",
       "    <tr style=\"text-align: right;\">\n",
       "      <th></th>\n",
       "      <th>cohesion</th>\n",
       "      <th>syntax</th>\n",
       "      <th>vocabulary</th>\n",
       "      <th>phraseology</th>\n",
       "      <th>grammar</th>\n",
       "      <th>conventions</th>\n",
       "    </tr>\n",
       "  </thead>\n",
       "  <tbody>\n",
       "    <tr>\n",
       "      <th>count</th>\n",
       "      <td>3911.000000</td>\n",
       "      <td>3911.000000</td>\n",
       "      <td>3911.000000</td>\n",
       "      <td>3911.000000</td>\n",
       "      <td>3911.000000</td>\n",
       "      <td>3911.000000</td>\n",
       "    </tr>\n",
       "    <tr>\n",
       "      <th>mean</th>\n",
       "      <td>3.127077</td>\n",
       "      <td>3.028254</td>\n",
       "      <td>3.235745</td>\n",
       "      <td>3.116850</td>\n",
       "      <td>3.032856</td>\n",
       "      <td>3.081053</td>\n",
       "    </tr>\n",
       "    <tr>\n",
       "      <th>std</th>\n",
       "      <td>0.662542</td>\n",
       "      <td>0.644399</td>\n",
       "      <td>0.583148</td>\n",
       "      <td>0.655997</td>\n",
       "      <td>0.699841</td>\n",
       "      <td>0.671450</td>\n",
       "    </tr>\n",
       "    <tr>\n",
       "      <th>min</th>\n",
       "      <td>1.000000</td>\n",
       "      <td>1.000000</td>\n",
       "      <td>1.000000</td>\n",
       "      <td>1.000000</td>\n",
       "      <td>1.000000</td>\n",
       "      <td>1.000000</td>\n",
       "    </tr>\n",
       "    <tr>\n",
       "      <th>25%</th>\n",
       "      <td>2.500000</td>\n",
       "      <td>2.500000</td>\n",
       "      <td>3.000000</td>\n",
       "      <td>2.500000</td>\n",
       "      <td>2.500000</td>\n",
       "      <td>2.500000</td>\n",
       "    </tr>\n",
       "    <tr>\n",
       "      <th>50%</th>\n",
       "      <td>3.000000</td>\n",
       "      <td>3.000000</td>\n",
       "      <td>3.000000</td>\n",
       "      <td>3.000000</td>\n",
       "      <td>3.000000</td>\n",
       "      <td>3.000000</td>\n",
       "    </tr>\n",
       "    <tr>\n",
       "      <th>75%</th>\n",
       "      <td>3.500000</td>\n",
       "      <td>3.500000</td>\n",
       "      <td>3.500000</td>\n",
       "      <td>3.500000</td>\n",
       "      <td>3.500000</td>\n",
       "      <td>3.500000</td>\n",
       "    </tr>\n",
       "    <tr>\n",
       "      <th>max</th>\n",
       "      <td>5.000000</td>\n",
       "      <td>5.000000</td>\n",
       "      <td>5.000000</td>\n",
       "      <td>5.000000</td>\n",
       "      <td>5.000000</td>\n",
       "      <td>5.000000</td>\n",
       "    </tr>\n",
       "  </tbody>\n",
       "</table>\n",
       "</div>"
      ],
      "text/plain": [
       "          cohesion       syntax   vocabulary  phraseology      grammar  \\\n",
       "count  3911.000000  3911.000000  3911.000000  3911.000000  3911.000000   \n",
       "mean      3.127077     3.028254     3.235745     3.116850     3.032856   \n",
       "std       0.662542     0.644399     0.583148     0.655997     0.699841   \n",
       "min       1.000000     1.000000     1.000000     1.000000     1.000000   \n",
       "25%       2.500000     2.500000     3.000000     2.500000     2.500000   \n",
       "50%       3.000000     3.000000     3.000000     3.000000     3.000000   \n",
       "75%       3.500000     3.500000     3.500000     3.500000     3.500000   \n",
       "max       5.000000     5.000000     5.000000     5.000000     5.000000   \n",
       "\n",
       "       conventions  \n",
       "count  3911.000000  \n",
       "mean      3.081053  \n",
       "std       0.671450  \n",
       "min       1.000000  \n",
       "25%       2.500000  \n",
       "50%       3.000000  \n",
       "75%       3.500000  \n",
       "max       5.000000  "
      ]
     },
     "execution_count": 4,
     "metadata": {},
     "output_type": "execute_result"
    }
   ],
   "source": [
    "train_df.describe()"
   ]
  },
  {
   "cell_type": "code",
   "execution_count": 5,
   "id": "ec6ba8e5",
   "metadata": {
    "execution": {
     "iopub.execute_input": "2023-07-10T22:39:44.726323Z",
     "iopub.status.busy": "2023-07-10T22:39:44.726045Z",
     "iopub.status.idle": "2023-07-10T22:39:44.736232Z",
     "shell.execute_reply": "2023-07-10T22:39:44.735308Z"
    },
    "papermill": {
     "duration": 0.024481,
     "end_time": "2023-07-10T22:39:44.738629",
     "exception": false,
     "start_time": "2023-07-10T22:39:44.714148",
     "status": "completed"
    },
    "tags": []
   },
   "outputs": [
    {
     "data": {
      "text/plain": [
       "text_id        0\n",
       "full_text      0\n",
       "cohesion       0\n",
       "syntax         0\n",
       "vocabulary     0\n",
       "phraseology    0\n",
       "grammar        0\n",
       "conventions    0\n",
       "dtype: int64"
      ]
     },
     "execution_count": 5,
     "metadata": {},
     "output_type": "execute_result"
    }
   ],
   "source": [
    "train_df.isnull().sum()"
   ]
  },
  {
   "cell_type": "code",
   "execution_count": 6,
   "id": "f41af5c0",
   "metadata": {
    "execution": {
     "iopub.execute_input": "2023-07-10T22:39:44.764623Z",
     "iopub.status.busy": "2023-07-10T22:39:44.764025Z",
     "iopub.status.idle": "2023-07-10T22:39:44.770509Z",
     "shell.execute_reply": "2023-07-10T22:39:44.769696Z"
    },
    "papermill": {
     "duration": 0.021516,
     "end_time": "2023-07-10T22:39:44.772422",
     "exception": false,
     "start_time": "2023-07-10T22:39:44.750906",
     "status": "completed"
    },
    "tags": []
   },
   "outputs": [],
   "source": [
    "import re\n",
    "import string\n",
    "def clean_p1(sen):\n",
    "    sen = str(sen).lower()\n",
    "    sen = re.sub('\\[.*?\\]', '', sen)\n",
    "    sen = re.sub('https?://\\S+|www\\.\\S+', '', sen)\n",
    "    sen = re.sub('<.*?>+', '', sen)\n",
    "    sen = re.sub('[%s]' % re.escape(string.punctuation), '', sen)\n",
    "    sen = re.sub('\\n', '', sen)\n",
    "    sen = re.sub('\\w*\\d\\w*', '', sen)\n",
    "    return sen"
   ]
  },
  {
   "cell_type": "code",
   "execution_count": 7,
   "id": "af9c741e",
   "metadata": {
    "execution": {
     "iopub.execute_input": "2023-07-10T22:39:44.796230Z",
     "iopub.status.busy": "2023-07-10T22:39:44.795485Z",
     "iopub.status.idle": "2023-07-10T22:39:44.800842Z",
     "shell.execute_reply": "2023-07-10T22:39:44.799977Z"
    },
    "papermill": {
     "duration": 0.019308,
     "end_time": "2023-07-10T22:39:44.802838",
     "exception": false,
     "start_time": "2023-07-10T22:39:44.783530",
     "status": "completed"
    },
    "tags": []
   },
   "outputs": [],
   "source": [
    "# cleaning the text\n",
    "def textPre(sen):\n",
    "    sen = str(clean_p1(sen))\n",
    "    sen = sen.lower()\n",
    "    \n",
    "    # below methods affecting the vocab\n",
    "    #remove\n",
    "    #filtered_words = [w for w in sen if w not in stopwords.words('english')]\n",
    "    \n",
    "    #stemming\n",
    "    #stem = PorterStemmer()\n",
    "    #stem_words = [stem.stem(w) for w in filtered_words]\n",
    "    \n",
    "    #lemmatize\n",
    "    #lemma = WordNetLemmatizer()\n",
    "    #lemma_words = [lemma.lemmatize(w) for w in filtered_words]\n",
    "    \n",
    "    return ' '.join(word_tokenize(sen))"
   ]
  },
  {
   "cell_type": "code",
   "execution_count": 8,
   "id": "b287f7b7",
   "metadata": {
    "execution": {
     "iopub.execute_input": "2023-07-10T22:39:44.828134Z",
     "iopub.status.busy": "2023-07-10T22:39:44.827370Z",
     "iopub.status.idle": "2023-07-10T22:39:59.586929Z",
     "shell.execute_reply": "2023-07-10T22:39:59.585837Z"
    },
    "papermill": {
     "duration": 14.774858,
     "end_time": "2023-07-10T22:39:59.589472",
     "exception": false,
     "start_time": "2023-07-10T22:39:44.814614",
     "status": "completed"
    },
    "tags": []
   },
   "outputs": [
    {
     "data": {
      "text/html": [
       "<div>\n",
       "<style scoped>\n",
       "    .dataframe tbody tr th:only-of-type {\n",
       "        vertical-align: middle;\n",
       "    }\n",
       "\n",
       "    .dataframe tbody tr th {\n",
       "        vertical-align: top;\n",
       "    }\n",
       "\n",
       "    .dataframe thead th {\n",
       "        text-align: right;\n",
       "    }\n",
       "</style>\n",
       "<table border=\"1\" class=\"dataframe\">\n",
       "  <thead>\n",
       "    <tr style=\"text-align: right;\">\n",
       "      <th></th>\n",
       "      <th>text_id</th>\n",
       "      <th>full_text</th>\n",
       "      <th>cohesion</th>\n",
       "      <th>syntax</th>\n",
       "      <th>vocabulary</th>\n",
       "      <th>phraseology</th>\n",
       "      <th>grammar</th>\n",
       "      <th>conventions</th>\n",
       "    </tr>\n",
       "  </thead>\n",
       "  <tbody>\n",
       "    <tr>\n",
       "      <th>0</th>\n",
       "      <td>0016926B079C</td>\n",
       "      <td>i think that students would benefit from learn...</td>\n",
       "      <td>3.5</td>\n",
       "      <td>3.5</td>\n",
       "      <td>3.0</td>\n",
       "      <td>3.0</td>\n",
       "      <td>4.0</td>\n",
       "      <td>3.0</td>\n",
       "    </tr>\n",
       "    <tr>\n",
       "      <th>1</th>\n",
       "      <td>0022683E9EA5</td>\n",
       "      <td>when a problem is a change you have to let it ...</td>\n",
       "      <td>2.5</td>\n",
       "      <td>2.5</td>\n",
       "      <td>3.0</td>\n",
       "      <td>2.0</td>\n",
       "      <td>2.0</td>\n",
       "      <td>2.5</td>\n",
       "    </tr>\n",
       "    <tr>\n",
       "      <th>2</th>\n",
       "      <td>00299B378633</td>\n",
       "      <td>dear principalif u change the school policy of...</td>\n",
       "      <td>3.0</td>\n",
       "      <td>3.5</td>\n",
       "      <td>3.0</td>\n",
       "      <td>3.0</td>\n",
       "      <td>3.0</td>\n",
       "      <td>2.5</td>\n",
       "    </tr>\n",
       "    <tr>\n",
       "      <th>3</th>\n",
       "      <td>003885A45F42</td>\n",
       "      <td>the best time in life is when you become yours...</td>\n",
       "      <td>4.5</td>\n",
       "      <td>4.5</td>\n",
       "      <td>4.5</td>\n",
       "      <td>4.5</td>\n",
       "      <td>4.0</td>\n",
       "      <td>5.0</td>\n",
       "    </tr>\n",
       "    <tr>\n",
       "      <th>4</th>\n",
       "      <td>0049B1DF5CCC</td>\n",
       "      <td>small act of kindness can impact in other peop...</td>\n",
       "      <td>2.5</td>\n",
       "      <td>3.0</td>\n",
       "      <td>3.0</td>\n",
       "      <td>3.0</td>\n",
       "      <td>2.5</td>\n",
       "      <td>2.5</td>\n",
       "    </tr>\n",
       "  </tbody>\n",
       "</table>\n",
       "</div>"
      ],
      "text/plain": [
       "        text_id                                          full_text  cohesion  \\\n",
       "0  0016926B079C  i think that students would benefit from learn...       3.5   \n",
       "1  0022683E9EA5  when a problem is a change you have to let it ...       2.5   \n",
       "2  00299B378633  dear principalif u change the school policy of...       3.0   \n",
       "3  003885A45F42  the best time in life is when you become yours...       4.5   \n",
       "4  0049B1DF5CCC  small act of kindness can impact in other peop...       2.5   \n",
       "\n",
       "   syntax  vocabulary  phraseology  grammar  conventions  \n",
       "0     3.5         3.0          3.0      4.0          3.0  \n",
       "1     2.5         3.0          2.0      2.0          2.5  \n",
       "2     3.5         3.0          3.0      3.0          2.5  \n",
       "3     4.5         4.5          4.5      4.0          5.0  \n",
       "4     3.0         3.0          3.0      2.5          2.5  "
      ]
     },
     "execution_count": 8,
     "metadata": {},
     "output_type": "execute_result"
    }
   ],
   "source": [
    "train_df['full_text'] = train_df['full_text'].apply(textPre)\n",
    "train_df.head()"
   ]
  },
  {
   "cell_type": "code",
   "execution_count": 9,
   "id": "c3211297",
   "metadata": {
    "execution": {
     "iopub.execute_input": "2023-07-10T22:39:59.617688Z",
     "iopub.status.busy": "2023-07-10T22:39:59.617378Z",
     "iopub.status.idle": "2023-07-10T22:39:59.622886Z",
     "shell.execute_reply": "2023-07-10T22:39:59.621966Z"
    },
    "papermill": {
     "duration": 0.02178,
     "end_time": "2023-07-10T22:39:59.625184",
     "exception": false,
     "start_time": "2023-07-10T22:39:59.603404",
     "status": "completed"
    },
    "tags": []
   },
   "outputs": [],
   "source": [
    "pred = train_df['full_text']\n",
    "tar1 = train_df['cohesion']\n",
    "tar2 = train_df['syntax']\n",
    "tar3 = train_df['vocabulary']\n",
    "tar4 = train_df['phraseology']\n",
    "tar5 = train_df['grammar']\n",
    "tar6 = train_df['conventions']"
   ]
  },
  {
   "cell_type": "code",
   "execution_count": 10,
   "id": "0a395b7f",
   "metadata": {
    "execution": {
     "iopub.execute_input": "2023-07-10T22:39:59.652721Z",
     "iopub.status.busy": "2023-07-10T22:39:59.651721Z",
     "iopub.status.idle": "2023-07-10T22:39:59.660295Z",
     "shell.execute_reply": "2023-07-10T22:39:59.659173Z"
    },
    "papermill": {
     "duration": 0.025311,
     "end_time": "2023-07-10T22:39:59.663263",
     "exception": false,
     "start_time": "2023-07-10T22:39:59.637952",
     "status": "completed"
    },
    "tags": []
   },
   "outputs": [
    {
     "data": {
      "text/plain": [
       "0       i think that students would benefit from learn...\n",
       "1       when a problem is a change you have to let it ...\n",
       "2       dear principalif u change the school policy of...\n",
       "3       the best time in life is when you become yours...\n",
       "4       small act of kindness can impact in other peop...\n",
       "                              ...                        \n",
       "3906    i believe using cellphones in class for educat...\n",
       "3907    working alone students do not have to argue wi...\n",
       "3908    a problem is a chance for you to do your best ...\n",
       "3909    many people disagree with albert schweitzers q...\n",
       "3910    do you think that failure is the main thing fo...\n",
       "Name: full_text, Length: 3911, dtype: object"
      ]
     },
     "execution_count": 10,
     "metadata": {},
     "output_type": "execute_result"
    }
   ],
   "source": [
    "pred"
   ]
  },
  {
   "cell_type": "code",
   "execution_count": 11,
   "id": "d67d9e86",
   "metadata": {
    "execution": {
     "iopub.execute_input": "2023-07-10T22:39:59.689743Z",
     "iopub.status.busy": "2023-07-10T22:39:59.689455Z",
     "iopub.status.idle": "2023-07-10T22:39:59.701916Z",
     "shell.execute_reply": "2023-07-10T22:39:59.700836Z"
    },
    "papermill": {
     "duration": 0.02896,
     "end_time": "2023-07-10T22:39:59.705012",
     "exception": false,
     "start_time": "2023-07-10T22:39:59.676052",
     "status": "completed"
    },
    "tags": []
   },
   "outputs": [
    {
     "data": {
      "text/html": [
       "<style>#sk-container-id-1 {color: black;background-color: white;}#sk-container-id-1 pre{padding: 0;}#sk-container-id-1 div.sk-toggleable {background-color: white;}#sk-container-id-1 label.sk-toggleable__label {cursor: pointer;display: block;width: 100%;margin-bottom: 0;padding: 0.3em;box-sizing: border-box;text-align: center;}#sk-container-id-1 label.sk-toggleable__label-arrow:before {content: \"▸\";float: left;margin-right: 0.25em;color: #696969;}#sk-container-id-1 label.sk-toggleable__label-arrow:hover:before {color: black;}#sk-container-id-1 div.sk-estimator:hover label.sk-toggleable__label-arrow:before {color: black;}#sk-container-id-1 div.sk-toggleable__content {max-height: 0;max-width: 0;overflow: hidden;text-align: left;background-color: #f0f8ff;}#sk-container-id-1 div.sk-toggleable__content pre {margin: 0.2em;color: black;border-radius: 0.25em;background-color: #f0f8ff;}#sk-container-id-1 input.sk-toggleable__control:checked~div.sk-toggleable__content {max-height: 200px;max-width: 100%;overflow: auto;}#sk-container-id-1 input.sk-toggleable__control:checked~label.sk-toggleable__label-arrow:before {content: \"▾\";}#sk-container-id-1 div.sk-estimator input.sk-toggleable__control:checked~label.sk-toggleable__label {background-color: #d4ebff;}#sk-container-id-1 div.sk-label input.sk-toggleable__control:checked~label.sk-toggleable__label {background-color: #d4ebff;}#sk-container-id-1 input.sk-hidden--visually {border: 0;clip: rect(1px 1px 1px 1px);clip: rect(1px, 1px, 1px, 1px);height: 1px;margin: -1px;overflow: hidden;padding: 0;position: absolute;width: 1px;}#sk-container-id-1 div.sk-estimator {font-family: monospace;background-color: #f0f8ff;border: 1px dotted black;border-radius: 0.25em;box-sizing: border-box;margin-bottom: 0.5em;}#sk-container-id-1 div.sk-estimator:hover {background-color: #d4ebff;}#sk-container-id-1 div.sk-parallel-item::after {content: \"\";width: 100%;border-bottom: 1px solid gray;flex-grow: 1;}#sk-container-id-1 div.sk-label:hover label.sk-toggleable__label {background-color: #d4ebff;}#sk-container-id-1 div.sk-serial::before {content: \"\";position: absolute;border-left: 1px solid gray;box-sizing: border-box;top: 0;bottom: 0;left: 50%;z-index: 0;}#sk-container-id-1 div.sk-serial {display: flex;flex-direction: column;align-items: center;background-color: white;padding-right: 0.2em;padding-left: 0.2em;position: relative;}#sk-container-id-1 div.sk-item {position: relative;z-index: 1;}#sk-container-id-1 div.sk-parallel {display: flex;align-items: stretch;justify-content: center;background-color: white;position: relative;}#sk-container-id-1 div.sk-item::before, #sk-container-id-1 div.sk-parallel-item::before {content: \"\";position: absolute;border-left: 1px solid gray;box-sizing: border-box;top: 0;bottom: 0;left: 50%;z-index: -1;}#sk-container-id-1 div.sk-parallel-item {display: flex;flex-direction: column;z-index: 1;position: relative;background-color: white;}#sk-container-id-1 div.sk-parallel-item:first-child::after {align-self: flex-end;width: 50%;}#sk-container-id-1 div.sk-parallel-item:last-child::after {align-self: flex-start;width: 50%;}#sk-container-id-1 div.sk-parallel-item:only-child::after {width: 0;}#sk-container-id-1 div.sk-dashed-wrapped {border: 1px dashed gray;margin: 0 0.4em 0.5em 0.4em;box-sizing: border-box;padding-bottom: 0.4em;background-color: white;}#sk-container-id-1 div.sk-label label {font-family: monospace;font-weight: bold;display: inline-block;line-height: 1.2em;}#sk-container-id-1 div.sk-label-container {text-align: center;}#sk-container-id-1 div.sk-container {/* jupyter's `normalize.less` sets `[hidden] { display: none; }` but bootstrap.min.css set `[hidden] { display: none !important; }` so we also need the `!important` here to be able to override the default hidden behavior on the sphinx rendered scikit-learn.org. See: https://github.com/scikit-learn/scikit-learn/issues/21755 */display: inline-block !important;position: relative;}#sk-container-id-1 div.sk-text-repr-fallback {display: none;}</style><div id=\"sk-container-id-1\" class=\"sk-top-container\"><div class=\"sk-text-repr-fallback\"><pre>TfidfVectorizer(max_df=0.7, min_df=5)</pre><b>In a Jupyter environment, please rerun this cell to show the HTML representation or trust the notebook. <br />On GitHub, the HTML representation is unable to render, please try loading this page with nbviewer.org.</b></div><div class=\"sk-container\" hidden><div class=\"sk-item\"><div class=\"sk-estimator sk-toggleable\"><input class=\"sk-toggleable__control sk-hidden--visually\" id=\"sk-estimator-id-1\" type=\"checkbox\" checked><label for=\"sk-estimator-id-1\" class=\"sk-toggleable__label sk-toggleable__label-arrow\">TfidfVectorizer</label><div class=\"sk-toggleable__content\"><pre>TfidfVectorizer(max_df=0.7, min_df=5)</pre></div></div></div></div></div>"
      ],
      "text/plain": [
       "TfidfVectorizer(max_df=0.7, min_df=5)"
      ]
     },
     "execution_count": 11,
     "metadata": {},
     "output_type": "execute_result"
    }
   ],
   "source": [
    "#tfidf vectorizer\n",
    "vec = TfidfVectorizer(max_df = 0.7, min_df = 5)\n",
    "vec"
   ]
  },
  {
   "cell_type": "code",
   "execution_count": 12,
   "id": "c9d1041f",
   "metadata": {
    "execution": {
     "iopub.execute_input": "2023-07-10T22:39:59.731899Z",
     "iopub.status.busy": "2023-07-10T22:39:59.731601Z",
     "iopub.status.idle": "2023-07-10T22:39:59.738794Z",
     "shell.execute_reply": "2023-07-10T22:39:59.737970Z"
    },
    "papermill": {
     "duration": 0.022876,
     "end_time": "2023-07-10T22:39:59.741195",
     "exception": false,
     "start_time": "2023-07-10T22:39:59.718319",
     "status": "completed"
    },
    "tags": []
   },
   "outputs": [],
   "source": [
    "x_train, x_val, y_train_1, y_val_1 = train_test_split(pred, tar1, test_size=0.2, random_state=1)"
   ]
  },
  {
   "cell_type": "code",
   "execution_count": 13,
   "id": "029234a1",
   "metadata": {
    "execution": {
     "iopub.execute_input": "2023-07-10T22:39:59.768615Z",
     "iopub.status.busy": "2023-07-10T22:39:59.767543Z",
     "iopub.status.idle": "2023-07-10T22:39:59.773207Z",
     "shell.execute_reply": "2023-07-10T22:39:59.772200Z"
    },
    "papermill": {
     "duration": 0.022259,
     "end_time": "2023-07-10T22:39:59.776112",
     "exception": false,
     "start_time": "2023-07-10T22:39:59.753853",
     "status": "completed"
    },
    "tags": []
   },
   "outputs": [
    {
     "name": "stdout",
     "output_type": "stream",
     "text": [
      "(3128,) (3128,)\n",
      "(783,) (783,)\n"
     ]
    }
   ],
   "source": [
    "print(x_train.shape, y_train_1.shape)\n",
    "print(x_val.shape, y_val_1.shape)"
   ]
  },
  {
   "cell_type": "code",
   "execution_count": 14,
   "id": "97dd7b81",
   "metadata": {
    "execution": {
     "iopub.execute_input": "2023-07-10T22:39:59.803407Z",
     "iopub.status.busy": "2023-07-10T22:39:59.803127Z",
     "iopub.status.idle": "2023-07-10T22:40:01.078812Z",
     "shell.execute_reply": "2023-07-10T22:40:01.077871Z"
    },
    "papermill": {
     "duration": 1.291548,
     "end_time": "2023-07-10T22:40:01.081176",
     "exception": false,
     "start_time": "2023-07-10T22:39:59.789628",
     "status": "completed"
    },
    "tags": []
   },
   "outputs": [
    {
     "data": {
      "text/plain": [
       "<3128x4583 sparse matrix of type '<class 'numpy.float64'>'\n",
       "\twith 369864 stored elements in Compressed Sparse Row format>"
      ]
     },
     "execution_count": 14,
     "metadata": {},
     "output_type": "execute_result"
    }
   ],
   "source": [
    "x_train_vec = vec.fit_transform(x_train)\n",
    "x_train_vec"
   ]
  },
  {
   "cell_type": "code",
   "execution_count": 15,
   "id": "07536f2c",
   "metadata": {
    "execution": {
     "iopub.execute_input": "2023-07-10T22:40:01.107695Z",
     "iopub.status.busy": "2023-07-10T22:40:01.107391Z",
     "iopub.status.idle": "2023-07-10T22:40:01.870726Z",
     "shell.execute_reply": "2023-07-10T22:40:01.869517Z"
    },
    "papermill": {
     "duration": 0.780074,
     "end_time": "2023-07-10T22:40:01.874152",
     "exception": false,
     "start_time": "2023-07-10T22:40:01.094078",
     "status": "completed"
    },
    "tags": []
   },
   "outputs": [
    {
     "data": {
      "text/html": [
       "<div>\n",
       "<style scoped>\n",
       "    .dataframe tbody tr th:only-of-type {\n",
       "        vertical-align: middle;\n",
       "    }\n",
       "\n",
       "    .dataframe tbody tr th {\n",
       "        vertical-align: top;\n",
       "    }\n",
       "\n",
       "    .dataframe thead th {\n",
       "        text-align: right;\n",
       "    }\n",
       "</style>\n",
       "<table border=\"1\" class=\"dataframe\">\n",
       "  <thead>\n",
       "    <tr style=\"text-align: right;\">\n",
       "      <th></th>\n",
       "      <th>abilities</th>\n",
       "      <th>ability</th>\n",
       "      <th>able</th>\n",
       "      <th>about</th>\n",
       "      <th>above</th>\n",
       "      <th>absent</th>\n",
       "      <th>absolute</th>\n",
       "      <th>absolutely</th>\n",
       "      <th>abuse</th>\n",
       "      <th>abut</th>\n",
       "      <th>...</th>\n",
       "      <th>youthe</th>\n",
       "      <th>youtube</th>\n",
       "      <th>youve</th>\n",
       "      <th>youwhen</th>\n",
       "      <th>youyou</th>\n",
       "      <th>ypu</th>\n",
       "      <th>yuo</th>\n",
       "      <th>zero</th>\n",
       "      <th>zone</th>\n",
       "      <th>zoo</th>\n",
       "    </tr>\n",
       "  </thead>\n",
       "  <tbody>\n",
       "    <tr>\n",
       "      <th>548</th>\n",
       "      <td>0.0</td>\n",
       "      <td>0.0</td>\n",
       "      <td>0.060256</td>\n",
       "      <td>0.035553</td>\n",
       "      <td>0.0</td>\n",
       "      <td>0.0</td>\n",
       "      <td>0.0</td>\n",
       "      <td>0.0</td>\n",
       "      <td>0.0</td>\n",
       "      <td>0.0</td>\n",
       "      <td>...</td>\n",
       "      <td>0.0</td>\n",
       "      <td>0.0</td>\n",
       "      <td>0.0</td>\n",
       "      <td>0.0</td>\n",
       "      <td>0.0</td>\n",
       "      <td>0.0</td>\n",
       "      <td>0.0</td>\n",
       "      <td>0.0</td>\n",
       "      <td>0.0</td>\n",
       "      <td>0.0</td>\n",
       "    </tr>\n",
       "    <tr>\n",
       "      <th>1479</th>\n",
       "      <td>0.0</td>\n",
       "      <td>0.0</td>\n",
       "      <td>0.000000</td>\n",
       "      <td>0.000000</td>\n",
       "      <td>0.0</td>\n",
       "      <td>0.0</td>\n",
       "      <td>0.0</td>\n",
       "      <td>0.0</td>\n",
       "      <td>0.0</td>\n",
       "      <td>0.0</td>\n",
       "      <td>...</td>\n",
       "      <td>0.0</td>\n",
       "      <td>0.0</td>\n",
       "      <td>0.0</td>\n",
       "      <td>0.0</td>\n",
       "      <td>0.0</td>\n",
       "      <td>0.0</td>\n",
       "      <td>0.0</td>\n",
       "      <td>0.0</td>\n",
       "      <td>0.0</td>\n",
       "      <td>0.0</td>\n",
       "    </tr>\n",
       "    <tr>\n",
       "      <th>1837</th>\n",
       "      <td>0.0</td>\n",
       "      <td>0.0</td>\n",
       "      <td>0.000000</td>\n",
       "      <td>0.000000</td>\n",
       "      <td>0.0</td>\n",
       "      <td>0.0</td>\n",
       "      <td>0.0</td>\n",
       "      <td>0.0</td>\n",
       "      <td>0.0</td>\n",
       "      <td>0.0</td>\n",
       "      <td>...</td>\n",
       "      <td>0.0</td>\n",
       "      <td>0.0</td>\n",
       "      <td>0.0</td>\n",
       "      <td>0.0</td>\n",
       "      <td>0.0</td>\n",
       "      <td>0.0</td>\n",
       "      <td>0.0</td>\n",
       "      <td>0.0</td>\n",
       "      <td>0.0</td>\n",
       "      <td>0.0</td>\n",
       "    </tr>\n",
       "    <tr>\n",
       "      <th>2230</th>\n",
       "      <td>0.0</td>\n",
       "      <td>0.0</td>\n",
       "      <td>0.000000</td>\n",
       "      <td>0.018036</td>\n",
       "      <td>0.0</td>\n",
       "      <td>0.0</td>\n",
       "      <td>0.0</td>\n",
       "      <td>0.0</td>\n",
       "      <td>0.0</td>\n",
       "      <td>0.0</td>\n",
       "      <td>...</td>\n",
       "      <td>0.0</td>\n",
       "      <td>0.0</td>\n",
       "      <td>0.0</td>\n",
       "      <td>0.0</td>\n",
       "      <td>0.0</td>\n",
       "      <td>0.0</td>\n",
       "      <td>0.0</td>\n",
       "      <td>0.0</td>\n",
       "      <td>0.0</td>\n",
       "      <td>0.0</td>\n",
       "    </tr>\n",
       "    <tr>\n",
       "      <th>45</th>\n",
       "      <td>0.0</td>\n",
       "      <td>0.0</td>\n",
       "      <td>0.000000</td>\n",
       "      <td>0.000000</td>\n",
       "      <td>0.0</td>\n",
       "      <td>0.0</td>\n",
       "      <td>0.0</td>\n",
       "      <td>0.0</td>\n",
       "      <td>0.0</td>\n",
       "      <td>0.0</td>\n",
       "      <td>...</td>\n",
       "      <td>0.0</td>\n",
       "      <td>0.0</td>\n",
       "      <td>0.0</td>\n",
       "      <td>0.0</td>\n",
       "      <td>0.0</td>\n",
       "      <td>0.0</td>\n",
       "      <td>0.0</td>\n",
       "      <td>0.0</td>\n",
       "      <td>0.0</td>\n",
       "      <td>0.0</td>\n",
       "    </tr>\n",
       "    <tr>\n",
       "      <th>171</th>\n",
       "      <td>0.0</td>\n",
       "      <td>0.0</td>\n",
       "      <td>0.023937</td>\n",
       "      <td>0.028247</td>\n",
       "      <td>0.0</td>\n",
       "      <td>0.0</td>\n",
       "      <td>0.0</td>\n",
       "      <td>0.0</td>\n",
       "      <td>0.0</td>\n",
       "      <td>0.0</td>\n",
       "      <td>...</td>\n",
       "      <td>0.0</td>\n",
       "      <td>0.0</td>\n",
       "      <td>0.0</td>\n",
       "      <td>0.0</td>\n",
       "      <td>0.0</td>\n",
       "      <td>0.0</td>\n",
       "      <td>0.0</td>\n",
       "      <td>0.0</td>\n",
       "      <td>0.0</td>\n",
       "      <td>0.0</td>\n",
       "    </tr>\n",
       "    <tr>\n",
       "      <th>2687</th>\n",
       "      <td>0.0</td>\n",
       "      <td>0.0</td>\n",
       "      <td>0.000000</td>\n",
       "      <td>0.015202</td>\n",
       "      <td>0.0</td>\n",
       "      <td>0.0</td>\n",
       "      <td>0.0</td>\n",
       "      <td>0.0</td>\n",
       "      <td>0.0</td>\n",
       "      <td>0.0</td>\n",
       "      <td>...</td>\n",
       "      <td>0.0</td>\n",
       "      <td>0.0</td>\n",
       "      <td>0.0</td>\n",
       "      <td>0.0</td>\n",
       "      <td>0.0</td>\n",
       "      <td>0.0</td>\n",
       "      <td>0.0</td>\n",
       "      <td>0.0</td>\n",
       "      <td>0.0</td>\n",
       "      <td>0.0</td>\n",
       "    </tr>\n",
       "    <tr>\n",
       "      <th>1793</th>\n",
       "      <td>0.0</td>\n",
       "      <td>0.0</td>\n",
       "      <td>0.000000</td>\n",
       "      <td>0.000000</td>\n",
       "      <td>0.0</td>\n",
       "      <td>0.0</td>\n",
       "      <td>0.0</td>\n",
       "      <td>0.0</td>\n",
       "      <td>0.0</td>\n",
       "      <td>0.0</td>\n",
       "      <td>...</td>\n",
       "      <td>0.0</td>\n",
       "      <td>0.0</td>\n",
       "      <td>0.0</td>\n",
       "      <td>0.0</td>\n",
       "      <td>0.0</td>\n",
       "      <td>0.0</td>\n",
       "      <td>0.0</td>\n",
       "      <td>0.0</td>\n",
       "      <td>0.0</td>\n",
       "      <td>0.0</td>\n",
       "    </tr>\n",
       "    <tr>\n",
       "      <th>484</th>\n",
       "      <td>0.0</td>\n",
       "      <td>0.0</td>\n",
       "      <td>0.000000</td>\n",
       "      <td>0.058524</td>\n",
       "      <td>0.0</td>\n",
       "      <td>0.0</td>\n",
       "      <td>0.0</td>\n",
       "      <td>0.0</td>\n",
       "      <td>0.0</td>\n",
       "      <td>0.0</td>\n",
       "      <td>...</td>\n",
       "      <td>0.0</td>\n",
       "      <td>0.0</td>\n",
       "      <td>0.0</td>\n",
       "      <td>0.0</td>\n",
       "      <td>0.0</td>\n",
       "      <td>0.0</td>\n",
       "      <td>0.0</td>\n",
       "      <td>0.0</td>\n",
       "      <td>0.0</td>\n",
       "      <td>0.0</td>\n",
       "    </tr>\n",
       "    <tr>\n",
       "      <th>2489</th>\n",
       "      <td>0.0</td>\n",
       "      <td>0.0</td>\n",
       "      <td>0.000000</td>\n",
       "      <td>0.037031</td>\n",
       "      <td>0.0</td>\n",
       "      <td>0.0</td>\n",
       "      <td>0.0</td>\n",
       "      <td>0.0</td>\n",
       "      <td>0.0</td>\n",
       "      <td>0.0</td>\n",
       "      <td>...</td>\n",
       "      <td>0.0</td>\n",
       "      <td>0.0</td>\n",
       "      <td>0.0</td>\n",
       "      <td>0.0</td>\n",
       "      <td>0.0</td>\n",
       "      <td>0.0</td>\n",
       "      <td>0.0</td>\n",
       "      <td>0.0</td>\n",
       "      <td>0.0</td>\n",
       "      <td>0.0</td>\n",
       "    </tr>\n",
       "  </tbody>\n",
       "</table>\n",
       "<p>10 rows × 4583 columns</p>\n",
       "</div>"
      ],
      "text/plain": [
       "      abilities  ability      able     about  above  absent  absolute  \\\n",
       "548         0.0      0.0  0.060256  0.035553    0.0     0.0       0.0   \n",
       "1479        0.0      0.0  0.000000  0.000000    0.0     0.0       0.0   \n",
       "1837        0.0      0.0  0.000000  0.000000    0.0     0.0       0.0   \n",
       "2230        0.0      0.0  0.000000  0.018036    0.0     0.0       0.0   \n",
       "45          0.0      0.0  0.000000  0.000000    0.0     0.0       0.0   \n",
       "171         0.0      0.0  0.023937  0.028247    0.0     0.0       0.0   \n",
       "2687        0.0      0.0  0.000000  0.015202    0.0     0.0       0.0   \n",
       "1793        0.0      0.0  0.000000  0.000000    0.0     0.0       0.0   \n",
       "484         0.0      0.0  0.000000  0.058524    0.0     0.0       0.0   \n",
       "2489        0.0      0.0  0.000000  0.037031    0.0     0.0       0.0   \n",
       "\n",
       "      absolutely  abuse  abut  ...  youthe  youtube  youve  youwhen  youyou  \\\n",
       "548          0.0    0.0   0.0  ...     0.0      0.0    0.0      0.0     0.0   \n",
       "1479         0.0    0.0   0.0  ...     0.0      0.0    0.0      0.0     0.0   \n",
       "1837         0.0    0.0   0.0  ...     0.0      0.0    0.0      0.0     0.0   \n",
       "2230         0.0    0.0   0.0  ...     0.0      0.0    0.0      0.0     0.0   \n",
       "45           0.0    0.0   0.0  ...     0.0      0.0    0.0      0.0     0.0   \n",
       "171          0.0    0.0   0.0  ...     0.0      0.0    0.0      0.0     0.0   \n",
       "2687         0.0    0.0   0.0  ...     0.0      0.0    0.0      0.0     0.0   \n",
       "1793         0.0    0.0   0.0  ...     0.0      0.0    0.0      0.0     0.0   \n",
       "484          0.0    0.0   0.0  ...     0.0      0.0    0.0      0.0     0.0   \n",
       "2489         0.0    0.0   0.0  ...     0.0      0.0    0.0      0.0     0.0   \n",
       "\n",
       "      ypu  yuo  zero  zone  zoo  \n",
       "548   0.0  0.0   0.0   0.0  0.0  \n",
       "1479  0.0  0.0   0.0   0.0  0.0  \n",
       "1837  0.0  0.0   0.0   0.0  0.0  \n",
       "2230  0.0  0.0   0.0   0.0  0.0  \n",
       "45    0.0  0.0   0.0   0.0  0.0  \n",
       "171   0.0  0.0   0.0   0.0  0.0  \n",
       "2687  0.0  0.0   0.0   0.0  0.0  \n",
       "1793  0.0  0.0   0.0   0.0  0.0  \n",
       "484   0.0  0.0   0.0   0.0  0.0  \n",
       "2489  0.0  0.0   0.0   0.0  0.0  \n",
       "\n",
       "[10 rows x 4583 columns]"
      ]
     },
     "execution_count": 15,
     "metadata": {},
     "output_type": "execute_result"
    }
   ],
   "source": [
    "df_train = pd.DataFrame.sparse.from_spmatrix(x_train_vec, columns=vec.get_feature_names_out())\n",
    "df_train.sample(10)"
   ]
  },
  {
   "cell_type": "code",
   "execution_count": 16,
   "id": "2ca07241",
   "metadata": {
    "execution": {
     "iopub.execute_input": "2023-07-10T22:40:01.902643Z",
     "iopub.status.busy": "2023-07-10T22:40:01.902344Z",
     "iopub.status.idle": "2023-07-10T22:40:02.228021Z",
     "shell.execute_reply": "2023-07-10T22:40:02.227005Z"
    },
    "papermill": {
     "duration": 0.342174,
     "end_time": "2023-07-10T22:40:02.230768",
     "exception": false,
     "start_time": "2023-07-10T22:40:01.888594",
     "status": "completed"
    },
    "tags": []
   },
   "outputs": [
    {
     "data": {
      "text/plain": [
       "<783x4583 sparse matrix of type '<class 'numpy.float64'>'\n",
       "\twith 93727 stored elements in Compressed Sparse Row format>"
      ]
     },
     "execution_count": 16,
     "metadata": {},
     "output_type": "execute_result"
    }
   ],
   "source": [
    "x_val_vec = vec.transform(x_val) # dont need to call fit selector again\n",
    "x_val_vec"
   ]
  },
  {
   "cell_type": "code",
   "execution_count": 17,
   "id": "48d05fb0",
   "metadata": {
    "execution": {
     "iopub.execute_input": "2023-07-10T22:40:02.257878Z",
     "iopub.status.busy": "2023-07-10T22:40:02.257569Z",
     "iopub.status.idle": "2023-07-10T22:40:02.263977Z",
     "shell.execute_reply": "2023-07-10T22:40:02.262988Z"
    },
    "papermill": {
     "duration": 0.022145,
     "end_time": "2023-07-10T22:40:02.266059",
     "exception": false,
     "start_time": "2023-07-10T22:40:02.243914",
     "status": "completed"
    },
    "tags": []
   },
   "outputs": [
    {
     "data": {
      "text/plain": [
       "(3128,)"
      ]
     },
     "execution_count": 17,
     "metadata": {},
     "output_type": "execute_result"
    }
   ],
   "source": [
    "x_train.shape"
   ]
  },
  {
   "cell_type": "code",
   "execution_count": 18,
   "id": "c28edd68",
   "metadata": {
    "execution": {
     "iopub.execute_input": "2023-07-10T22:40:02.292880Z",
     "iopub.status.busy": "2023-07-10T22:40:02.292001Z",
     "iopub.status.idle": "2023-07-10T22:40:02.298079Z",
     "shell.execute_reply": "2023-07-10T22:40:02.297192Z"
    },
    "papermill": {
     "duration": 0.021659,
     "end_time": "2023-07-10T22:40:02.300210",
     "exception": false,
     "start_time": "2023-07-10T22:40:02.278551",
     "status": "completed"
    },
    "tags": []
   },
   "outputs": [
    {
     "data": {
      "text/plain": [
       "(783,)"
      ]
     },
     "execution_count": 18,
     "metadata": {},
     "output_type": "execute_result"
    }
   ],
   "source": [
    "x_val.shape"
   ]
  },
  {
   "cell_type": "code",
   "execution_count": 19,
   "id": "aea9044f",
   "metadata": {
    "execution": {
     "iopub.execute_input": "2023-07-10T22:40:02.327793Z",
     "iopub.status.busy": "2023-07-10T22:40:02.327005Z",
     "iopub.status.idle": "2023-07-10T22:40:02.333229Z",
     "shell.execute_reply": "2023-07-10T22:40:02.332357Z"
    },
    "papermill": {
     "duration": 0.022081,
     "end_time": "2023-07-10T22:40:02.335292",
     "exception": false,
     "start_time": "2023-07-10T22:40:02.313211",
     "status": "completed"
    },
    "tags": []
   },
   "outputs": [],
   "source": [
    "x_train, x_val, y_train_2, y_val_2 = train_test_split(pred, tar2, test_size=0.2, random_state=42)"
   ]
  },
  {
   "cell_type": "code",
   "execution_count": 20,
   "id": "f7bce0b3",
   "metadata": {
    "execution": {
     "iopub.execute_input": "2023-07-10T22:40:02.361978Z",
     "iopub.status.busy": "2023-07-10T22:40:02.361272Z",
     "iopub.status.idle": "2023-07-10T22:40:02.368265Z",
     "shell.execute_reply": "2023-07-10T22:40:02.367435Z"
    },
    "papermill": {
     "duration": 0.022424,
     "end_time": "2023-07-10T22:40:02.370286",
     "exception": false,
     "start_time": "2023-07-10T22:40:02.347862",
     "status": "completed"
    },
    "tags": []
   },
   "outputs": [],
   "source": [
    "x_train, x_val, y_train_3, y_val_3 = train_test_split(pred, tar3, test_size=0.2, random_state=42)"
   ]
  },
  {
   "cell_type": "code",
   "execution_count": 21,
   "id": "37c2195d",
   "metadata": {
    "execution": {
     "iopub.execute_input": "2023-07-10T22:40:02.397212Z",
     "iopub.status.busy": "2023-07-10T22:40:02.396477Z",
     "iopub.status.idle": "2023-07-10T22:40:02.402415Z",
     "shell.execute_reply": "2023-07-10T22:40:02.401576Z"
    },
    "papermill": {
     "duration": 0.021408,
     "end_time": "2023-07-10T22:40:02.404490",
     "exception": false,
     "start_time": "2023-07-10T22:40:02.383082",
     "status": "completed"
    },
    "tags": []
   },
   "outputs": [],
   "source": [
    "x_train, x_val, y_train_4, y_val_4 = train_test_split(pred, tar4, test_size=0.2, random_state=42)"
   ]
  },
  {
   "cell_type": "code",
   "execution_count": 22,
   "id": "9ea4cd59",
   "metadata": {
    "execution": {
     "iopub.execute_input": "2023-07-10T22:40:02.431306Z",
     "iopub.status.busy": "2023-07-10T22:40:02.430520Z",
     "iopub.status.idle": "2023-07-10T22:40:02.436410Z",
     "shell.execute_reply": "2023-07-10T22:40:02.435592Z"
    },
    "papermill": {
     "duration": 0.021642,
     "end_time": "2023-07-10T22:40:02.438286",
     "exception": false,
     "start_time": "2023-07-10T22:40:02.416644",
     "status": "completed"
    },
    "tags": []
   },
   "outputs": [],
   "source": [
    "x_train, x_val, y_train_5, y_val_5 = train_test_split(pred, tar5, test_size=0.2, random_state=42)"
   ]
  },
  {
   "cell_type": "code",
   "execution_count": 23,
   "id": "5c80bc5e",
   "metadata": {
    "execution": {
     "iopub.execute_input": "2023-07-10T22:40:02.464074Z",
     "iopub.status.busy": "2023-07-10T22:40:02.463547Z",
     "iopub.status.idle": "2023-07-10T22:40:02.469528Z",
     "shell.execute_reply": "2023-07-10T22:40:02.468701Z"
    },
    "papermill": {
     "duration": 0.020965,
     "end_time": "2023-07-10T22:40:02.471470",
     "exception": false,
     "start_time": "2023-07-10T22:40:02.450505",
     "status": "completed"
    },
    "tags": []
   },
   "outputs": [],
   "source": [
    "x_train, x_val, y_train_6, y_val_6 = train_test_split(pred, tar6, test_size=0.2, random_state=42)"
   ]
  },
  {
   "cell_type": "code",
   "execution_count": 24,
   "id": "3ee7c17c",
   "metadata": {
    "execution": {
     "iopub.execute_input": "2023-07-10T22:40:02.499600Z",
     "iopub.status.busy": "2023-07-10T22:40:02.498769Z",
     "iopub.status.idle": "2023-07-10T22:40:07.839972Z",
     "shell.execute_reply": "2023-07-10T22:40:07.838874Z"
    },
    "papermill": {
     "duration": 5.358014,
     "end_time": "2023-07-10T22:40:07.842193",
     "exception": false,
     "start_time": "2023-07-10T22:40:02.484179",
     "status": "completed"
    },
    "tags": []
   },
   "outputs": [
    {
     "name": "stdout",
     "output_type": "stream",
     "text": [
      "ridge best_para {'alpha': 2.6315789473684212}\n",
      "ridge best_score 0.2549779222014542\n",
      "ridge_r2_score_train= 0.4739442188386165\n",
      "ridge_r2_score_check= 0.24158590009362024\n",
      "rmse= 0.5928241776782446\n"
     ]
    }
   ],
   "source": [
    "#ridge regression\n",
    "ridge_reg1=GridSearchCV(Ridge(), param_grid={'alpha':np.linspace(0.0, 50, 20)}, cv=5)\n",
    "ridge_model1=ridge_reg1.fit(x_train_vec, y_train_1)\n",
    "print('ridge best_para', ridge_reg1.best_params_)\n",
    "print('ridge best_score', ridge_reg1.best_score_)\n",
    "ridge_r2_score_train1=r2_score(y_train_1,ridge_model1.predict(x_train_vec))\n",
    "ridge_r2_score_check1=r2_score(y_val_1,ridge_model1.predict(x_val_vec))\n",
    "print('ridge_r2_score_train=',ridge_r2_score_train1)\n",
    "print('ridge_r2_score_check=',ridge_r2_score_check1)\n",
    "print('rmse=', mean_squared_error(y_val_1, ridge_model1.predict(x_val_vec), squared=False))"
   ]
  },
  {
   "cell_type": "code",
   "execution_count": 25,
   "id": "4533988d",
   "metadata": {
    "execution": {
     "iopub.execute_input": "2023-07-10T22:40:07.871496Z",
     "iopub.status.busy": "2023-07-10T22:40:07.870784Z",
     "iopub.status.idle": "2023-07-10T22:40:12.899868Z",
     "shell.execute_reply": "2023-07-10T22:40:12.898573Z"
    },
    "papermill": {
     "duration": 5.046714,
     "end_time": "2023-07-10T22:40:12.902314",
     "exception": false,
     "start_time": "2023-07-10T22:40:07.855600",
     "status": "completed"
    },
    "tags": []
   },
   "outputs": [
    {
     "name": "stdout",
     "output_type": "stream",
     "text": [
      "ridge best_para {'alpha': 50.0}\n",
      "ridge best_score -0.0014503121092207306\n",
      "ridge_r2_score_train= 0.031487546963153146\n",
      "ridge_r2_score_check= 0.0021644906113360562\n",
      "rmse= 0.6505049879640902\n"
     ]
    }
   ],
   "source": [
    "ridge_reg2=GridSearchCV(Ridge(), param_grid={'alpha':np.linspace(0.0, 50, 20)}, cv=5)\n",
    "ridge_model2=ridge_reg2.fit(x_train_vec, y_train_2)\n",
    "print('ridge best_para', ridge_reg2.best_params_)\n",
    "print('ridge best_score', ridge_reg2.best_score_)\n",
    "ridge_r2_score_train2=r2_score(y_train_2,ridge_model2.predict(x_train_vec))\n",
    "ridge_r2_score_check2=r2_score(y_val_2,ridge_model2.predict(x_val_vec))\n",
    "print('ridge_r2_score_train=',ridge_r2_score_train2)\n",
    "print('ridge_r2_score_check=',ridge_r2_score_check2)\n",
    "print('rmse=', mean_squared_error(y_val_2, ridge_model2.predict(x_val_vec), squared=False))"
   ]
  },
  {
   "cell_type": "code",
   "execution_count": 26,
   "id": "9496af37",
   "metadata": {
    "execution": {
     "iopub.execute_input": "2023-07-10T22:40:12.930209Z",
     "iopub.status.busy": "2023-07-10T22:40:12.929888Z",
     "iopub.status.idle": "2023-07-10T22:40:18.013479Z",
     "shell.execute_reply": "2023-07-10T22:40:18.012069Z"
    },
    "papermill": {
     "duration": 5.100184,
     "end_time": "2023-07-10T22:40:18.015702",
     "exception": false,
     "start_time": "2023-07-10T22:40:12.915518",
     "status": "completed"
    },
    "tags": []
   },
   "outputs": [
    {
     "name": "stdout",
     "output_type": "stream",
     "text": [
      "ridge best_para {'alpha': 50.0}\n",
      "ridge best_score -0.000395679311694086\n",
      "ridge_r2_score_train= 0.03082515694525878\n",
      "ridge_r2_score_check= -0.005033160528871816\n",
      "rmse= 0.5752922540030835\n"
     ]
    }
   ],
   "source": [
    "ridge_reg3=GridSearchCV(Ridge(), param_grid={'alpha':np.linspace(0.0, 50, 20)}, cv=5)\n",
    "ridge_model3=ridge_reg3.fit(x_train_vec, y_train_3)\n",
    "print('ridge best_para', ridge_reg3.best_params_)\n",
    "print('ridge best_score', ridge_reg3.best_score_)\n",
    "ridge_r2_score_train3=r2_score(y_train_3,ridge_model3.predict(x_train_vec))\n",
    "ridge_r2_score_check3=r2_score(y_val_3,ridge_model3.predict(x_val_vec))\n",
    "print('ridge_r2_score_train=',ridge_r2_score_train3)\n",
    "print('ridge_r2_score_check=',ridge_r2_score_check3)\n",
    "print('rmse=', mean_squared_error(y_val_3, ridge_model3.predict(x_val_vec), squared=False))"
   ]
  },
  {
   "cell_type": "code",
   "execution_count": 27,
   "id": "de9eb64e",
   "metadata": {
    "execution": {
     "iopub.execute_input": "2023-07-10T22:40:18.043467Z",
     "iopub.status.busy": "2023-07-10T22:40:18.043164Z",
     "iopub.status.idle": "2023-07-10T22:40:23.130901Z",
     "shell.execute_reply": "2023-07-10T22:40:23.129700Z"
    },
    "papermill": {
     "duration": 5.104113,
     "end_time": "2023-07-10T22:40:23.132905",
     "exception": false,
     "start_time": "2023-07-10T22:40:18.028792",
     "status": "completed"
    },
    "tags": []
   },
   "outputs": [
    {
     "name": "stdout",
     "output_type": "stream",
     "text": [
      "ridge best_para {'alpha': 50.0}\n",
      "ridge best_score -0.0020289352111645177\n",
      "ridge_r2_score_train= 0.028914200054741324\n",
      "ridge_r2_score_check= -0.0012268098194148092\n",
      "rmse= 0.6587947015934494\n"
     ]
    }
   ],
   "source": [
    "ridge_reg4=GridSearchCV(Ridge(), param_grid={'alpha':np.linspace(0.0, 50, 20)}, cv=5)\n",
    "ridge_model4=ridge_reg4.fit(x_train_vec, y_train_4)\n",
    "print('ridge best_para', ridge_reg4.best_params_)\n",
    "print('ridge best_score', ridge_reg4.best_score_)\n",
    "ridge_r2_score_train4=r2_score(y_train_4,ridge_model4.predict(x_train_vec))\n",
    "ridge_r2_score_check4=r2_score(y_val_4,ridge_model4.predict(x_val_vec))\n",
    "print('ridge_r2_score_train=',ridge_r2_score_train4)\n",
    "print('ridge_r2_score_check=',ridge_r2_score_check4)\n",
    "print('rmse=', mean_squared_error(y_val_4, ridge_model4.predict(x_val_vec), squared=False))"
   ]
  },
  {
   "cell_type": "code",
   "execution_count": 28,
   "id": "1d3be50e",
   "metadata": {
    "execution": {
     "iopub.execute_input": "2023-07-10T22:40:23.163099Z",
     "iopub.status.busy": "2023-07-10T22:40:23.161273Z",
     "iopub.status.idle": "2023-07-10T22:40:28.247730Z",
     "shell.execute_reply": "2023-07-10T22:40:28.246612Z"
    },
    "papermill": {
     "duration": 5.104055,
     "end_time": "2023-07-10T22:40:28.250794",
     "exception": false,
     "start_time": "2023-07-10T22:40:23.146739",
     "status": "completed"
    },
    "tags": []
   },
   "outputs": [
    {
     "name": "stdout",
     "output_type": "stream",
     "text": [
      "ridge best_para {'alpha': 50.0}\n",
      "ridge best_score 0.00010915648783353938\n",
      "ridge_r2_score_train= 0.0322814123847297\n",
      "ridge_r2_score_check= 0.0002701893187990745\n",
      "rmse= 0.6961483045314242\n"
     ]
    }
   ],
   "source": [
    "ridge_reg5=GridSearchCV(Ridge(), param_grid={'alpha':np.linspace(0.0, 50, 20)}, cv=5)\n",
    "ridge_model5=ridge_reg5.fit(x_train_vec, y_train_5)\n",
    "print('ridge best_para', ridge_reg5.best_params_)\n",
    "print('ridge best_score', ridge_reg5.best_score_)\n",
    "ridge_r2_score_train5=r2_score(y_train_5,ridge_model5.predict(x_train_vec))\n",
    "ridge_r2_score_check5=r2_score(y_val_5,ridge_model5.predict(x_val_vec))\n",
    "print('ridge_r2_score_train=',ridge_r2_score_train5)\n",
    "print('ridge_r2_score_check=',ridge_r2_score_check5)\n",
    "print('rmse=', mean_squared_error(y_val_5, ridge_model5.predict(x_val_vec), squared=False))"
   ]
  },
  {
   "cell_type": "code",
   "execution_count": 29,
   "id": "161a3b59",
   "metadata": {
    "execution": {
     "iopub.execute_input": "2023-07-10T22:40:28.280268Z",
     "iopub.status.busy": "2023-07-10T22:40:28.279968Z",
     "iopub.status.idle": "2023-07-10T22:40:33.329344Z",
     "shell.execute_reply": "2023-07-10T22:40:33.328110Z"
    },
    "papermill": {
     "duration": 5.066925,
     "end_time": "2023-07-10T22:40:33.332100",
     "exception": false,
     "start_time": "2023-07-10T22:40:28.265175",
     "status": "completed"
    },
    "tags": []
   },
   "outputs": [
    {
     "name": "stdout",
     "output_type": "stream",
     "text": [
      "ridge best_para {'alpha': 34.21052631578948}\n",
      "ridge best_score 0.0008779481566552505\n",
      "ridge_r2_score_train= 0.043856569489621244\n",
      "ridge_r2_score_check= 0.0009199580588070688\n",
      "rmse= 0.679702302309662\n"
     ]
    }
   ],
   "source": [
    "ridge_reg6=GridSearchCV(Ridge(), param_grid={'alpha':np.linspace(0.0, 50, 20)}, cv=5)\n",
    "ridge_model6=ridge_reg6.fit(x_train_vec, y_train_6)\n",
    "print('ridge best_para', ridge_reg6.best_params_)\n",
    "print('ridge best_score', ridge_reg6.best_score_)\n",
    "ridge_r2_score_train6=r2_score(y_train_6,ridge_model6.predict(x_train_vec))\n",
    "ridge_r2_score_check6=r2_score(y_val_6,ridge_model6.predict(x_val_vec))\n",
    "print('ridge_r2_score_train=',ridge_r2_score_train6)\n",
    "print('ridge_r2_score_check=',ridge_r2_score_check6)\n",
    "print('rmse=', mean_squared_error(y_val_6, ridge_model6.predict(x_val_vec), squared=False))"
   ]
  },
  {
   "cell_type": "code",
   "execution_count": 30,
   "id": "3eaf0380",
   "metadata": {
    "execution": {
     "iopub.execute_input": "2023-07-10T22:40:33.361448Z",
     "iopub.status.busy": "2023-07-10T22:40:33.360485Z",
     "iopub.status.idle": "2023-07-10T22:40:33.369967Z",
     "shell.execute_reply": "2023-07-10T22:40:33.368913Z"
    },
    "papermill": {
     "duration": 0.026351,
     "end_time": "2023-07-10T22:40:33.372254",
     "exception": false,
     "start_time": "2023-07-10T22:40:33.345903",
     "status": "completed"
    },
    "tags": []
   },
   "outputs": [
    {
     "data": {
      "text/html": [
       "<div>\n",
       "<style scoped>\n",
       "    .dataframe tbody tr th:only-of-type {\n",
       "        vertical-align: middle;\n",
       "    }\n",
       "\n",
       "    .dataframe tbody tr th {\n",
       "        vertical-align: top;\n",
       "    }\n",
       "\n",
       "    .dataframe thead th {\n",
       "        text-align: right;\n",
       "    }\n",
       "</style>\n",
       "<table border=\"1\" class=\"dataframe\">\n",
       "  <thead>\n",
       "    <tr style=\"text-align: right;\">\n",
       "      <th></th>\n",
       "      <th>text_id</th>\n",
       "      <th>full_text</th>\n",
       "    </tr>\n",
       "  </thead>\n",
       "  <tbody>\n",
       "    <tr>\n",
       "      <th>0</th>\n",
       "      <td>0000C359D63E</td>\n",
       "      <td>when a person has no experience on a job their...</td>\n",
       "    </tr>\n",
       "    <tr>\n",
       "      <th>1</th>\n",
       "      <td>000BAD50D026</td>\n",
       "      <td>Do you think students would benefit from being...</td>\n",
       "    </tr>\n",
       "    <tr>\n",
       "      <th>2</th>\n",
       "      <td>00367BB2546B</td>\n",
       "      <td>Thomas Jefferson once states that \"it is wonde...</td>\n",
       "    </tr>\n",
       "  </tbody>\n",
       "</table>\n",
       "</div>"
      ],
      "text/plain": [
       "        text_id                                          full_text\n",
       "0  0000C359D63E  when a person has no experience on a job their...\n",
       "1  000BAD50D026  Do you think students would benefit from being...\n",
       "2  00367BB2546B  Thomas Jefferson once states that \"it is wonde..."
      ]
     },
     "execution_count": 30,
     "metadata": {},
     "output_type": "execute_result"
    }
   ],
   "source": [
    "test_df"
   ]
  },
  {
   "cell_type": "code",
   "execution_count": 31,
   "id": "30a50d87",
   "metadata": {
    "execution": {
     "iopub.execute_input": "2023-07-10T22:40:33.401099Z",
     "iopub.status.busy": "2023-07-10T22:40:33.400361Z",
     "iopub.status.idle": "2023-07-10T22:40:33.409777Z",
     "shell.execute_reply": "2023-07-10T22:40:33.408740Z"
    },
    "papermill": {
     "duration": 0.025659,
     "end_time": "2023-07-10T22:40:33.411967",
     "exception": false,
     "start_time": "2023-07-10T22:40:33.386308",
     "status": "completed"
    },
    "tags": []
   },
   "outputs": [
    {
     "data": {
      "text/plain": [
       "<3x4583 sparse matrix of type '<class 'numpy.float64'>'\n",
       "\twith 425 stored elements in Compressed Sparse Row format>"
      ]
     },
     "execution_count": 31,
     "metadata": {},
     "output_type": "execute_result"
    }
   ],
   "source": [
    "x_test = test_df['full_text']\n",
    "x_test_vec = vec.transform(x_test)\n",
    "x_test_vec"
   ]
  },
  {
   "cell_type": "code",
   "execution_count": 32,
   "id": "3976b1e4",
   "metadata": {
    "execution": {
     "iopub.execute_input": "2023-07-10T22:40:33.440584Z",
     "iopub.status.busy": "2023-07-10T22:40:33.440290Z",
     "iopub.status.idle": "2023-07-10T22:40:33.446802Z",
     "shell.execute_reply": "2023-07-10T22:40:33.445883Z"
    },
    "papermill": {
     "duration": 0.023248,
     "end_time": "2023-07-10T22:40:33.448728",
     "exception": false,
     "start_time": "2023-07-10T22:40:33.425480",
     "status": "completed"
    },
    "tags": []
   },
   "outputs": [],
   "source": [
    "pred_1 = ridge_model1.predict(x_test_vec)\n",
    "test_df['cohesion'] = pred_1"
   ]
  },
  {
   "cell_type": "code",
   "execution_count": 33,
   "id": "301a91e1",
   "metadata": {
    "execution": {
     "iopub.execute_input": "2023-07-10T22:40:33.477064Z",
     "iopub.status.busy": "2023-07-10T22:40:33.476242Z",
     "iopub.status.idle": "2023-07-10T22:40:33.481716Z",
     "shell.execute_reply": "2023-07-10T22:40:33.480740Z"
    },
    "papermill": {
     "duration": 0.021771,
     "end_time": "2023-07-10T22:40:33.484070",
     "exception": false,
     "start_time": "2023-07-10T22:40:33.462299",
     "status": "completed"
    },
    "tags": []
   },
   "outputs": [],
   "source": [
    "pred_2 = ridge_model2.predict(x_test_vec)\n",
    "test_df['syntax'] = pred_2"
   ]
  },
  {
   "cell_type": "code",
   "execution_count": 34,
   "id": "dacaf3e9",
   "metadata": {
    "execution": {
     "iopub.execute_input": "2023-07-10T22:40:33.514717Z",
     "iopub.status.busy": "2023-07-10T22:40:33.513968Z",
     "iopub.status.idle": "2023-07-10T22:40:33.519764Z",
     "shell.execute_reply": "2023-07-10T22:40:33.518754Z"
    },
    "papermill": {
     "duration": 0.022591,
     "end_time": "2023-07-10T22:40:33.522047",
     "exception": false,
     "start_time": "2023-07-10T22:40:33.499456",
     "status": "completed"
    },
    "tags": []
   },
   "outputs": [],
   "source": [
    "pred_3 = ridge_model3.predict(x_test_vec)\n",
    "test_df['vocabulary'] = pred_3"
   ]
  },
  {
   "cell_type": "code",
   "execution_count": 35,
   "id": "bb03632e",
   "metadata": {
    "execution": {
     "iopub.execute_input": "2023-07-10T22:40:33.553302Z",
     "iopub.status.busy": "2023-07-10T22:40:33.552468Z",
     "iopub.status.idle": "2023-07-10T22:40:33.558171Z",
     "shell.execute_reply": "2023-07-10T22:40:33.557208Z"
    },
    "papermill": {
     "duration": 0.022868,
     "end_time": "2023-07-10T22:40:33.560404",
     "exception": false,
     "start_time": "2023-07-10T22:40:33.537536",
     "status": "completed"
    },
    "tags": []
   },
   "outputs": [],
   "source": [
    "pred_4 = ridge_model4.predict(x_test_vec)\n",
    "test_df['phraseology'] = pred_4"
   ]
  },
  {
   "cell_type": "code",
   "execution_count": 36,
   "id": "6c016513",
   "metadata": {
    "execution": {
     "iopub.execute_input": "2023-07-10T22:40:33.591126Z",
     "iopub.status.busy": "2023-07-10T22:40:33.590384Z",
     "iopub.status.idle": "2023-07-10T22:40:33.595903Z",
     "shell.execute_reply": "2023-07-10T22:40:33.594958Z"
    },
    "papermill": {
     "duration": 0.022414,
     "end_time": "2023-07-10T22:40:33.598225",
     "exception": false,
     "start_time": "2023-07-10T22:40:33.575811",
     "status": "completed"
    },
    "tags": []
   },
   "outputs": [],
   "source": [
    "pred_5 = ridge_model5.predict(x_test_vec)\n",
    "test_df['grammar'] = pred_5"
   ]
  },
  {
   "cell_type": "code",
   "execution_count": 37,
   "id": "de24d2ed",
   "metadata": {
    "execution": {
     "iopub.execute_input": "2023-07-10T22:40:33.628839Z",
     "iopub.status.busy": "2023-07-10T22:40:33.628071Z",
     "iopub.status.idle": "2023-07-10T22:40:33.633488Z",
     "shell.execute_reply": "2023-07-10T22:40:33.632528Z"
    },
    "papermill": {
     "duration": 0.022391,
     "end_time": "2023-07-10T22:40:33.635789",
     "exception": false,
     "start_time": "2023-07-10T22:40:33.613398",
     "status": "completed"
    },
    "tags": []
   },
   "outputs": [],
   "source": [
    "pred_6 = ridge_model6.predict(x_test_vec)\n",
    "test_df['conventions'] = pred_6"
   ]
  },
  {
   "cell_type": "code",
   "execution_count": 38,
   "id": "e1275474",
   "metadata": {
    "execution": {
     "iopub.execute_input": "2023-07-10T22:40:33.665965Z",
     "iopub.status.busy": "2023-07-10T22:40:33.665121Z",
     "iopub.status.idle": "2023-07-10T22:40:33.677711Z",
     "shell.execute_reply": "2023-07-10T22:40:33.676743Z"
    },
    "papermill": {
     "duration": 0.028809,
     "end_time": "2023-07-10T22:40:33.679777",
     "exception": false,
     "start_time": "2023-07-10T22:40:33.650968",
     "status": "completed"
    },
    "tags": []
   },
   "outputs": [
    {
     "data": {
      "text/html": [
       "<div>\n",
       "<style scoped>\n",
       "    .dataframe tbody tr th:only-of-type {\n",
       "        vertical-align: middle;\n",
       "    }\n",
       "\n",
       "    .dataframe tbody tr th {\n",
       "        vertical-align: top;\n",
       "    }\n",
       "\n",
       "    .dataframe thead th {\n",
       "        text-align: right;\n",
       "    }\n",
       "</style>\n",
       "<table border=\"1\" class=\"dataframe\">\n",
       "  <thead>\n",
       "    <tr style=\"text-align: right;\">\n",
       "      <th></th>\n",
       "      <th>text_id</th>\n",
       "      <th>full_text</th>\n",
       "      <th>cohesion</th>\n",
       "      <th>syntax</th>\n",
       "      <th>vocabulary</th>\n",
       "      <th>phraseology</th>\n",
       "      <th>grammar</th>\n",
       "      <th>conventions</th>\n",
       "    </tr>\n",
       "  </thead>\n",
       "  <tbody>\n",
       "    <tr>\n",
       "      <th>0</th>\n",
       "      <td>0000C359D63E</td>\n",
       "      <td>when a person has no experience on a job their...</td>\n",
       "      <td>2.977096</td>\n",
       "      <td>3.093063</td>\n",
       "      <td>3.287507</td>\n",
       "      <td>3.167188</td>\n",
       "      <td>3.104038</td>\n",
       "      <td>3.174666</td>\n",
       "    </tr>\n",
       "    <tr>\n",
       "      <th>1</th>\n",
       "      <td>000BAD50D026</td>\n",
       "      <td>Do you think students would benefit from being...</td>\n",
       "      <td>2.918421</td>\n",
       "      <td>3.009507</td>\n",
       "      <td>3.223502</td>\n",
       "      <td>3.105798</td>\n",
       "      <td>3.012920</td>\n",
       "      <td>3.060604</td>\n",
       "    </tr>\n",
       "    <tr>\n",
       "      <th>2</th>\n",
       "      <td>00367BB2546B</td>\n",
       "      <td>Thomas Jefferson once states that \"it is wonde...</td>\n",
       "      <td>3.458634</td>\n",
       "      <td>3.036429</td>\n",
       "      <td>3.236600</td>\n",
       "      <td>3.114464</td>\n",
       "      <td>3.043099</td>\n",
       "      <td>3.048575</td>\n",
       "    </tr>\n",
       "  </tbody>\n",
       "</table>\n",
       "</div>"
      ],
      "text/plain": [
       "        text_id                                          full_text  cohesion  \\\n",
       "0  0000C359D63E  when a person has no experience on a job their...  2.977096   \n",
       "1  000BAD50D026  Do you think students would benefit from being...  2.918421   \n",
       "2  00367BB2546B  Thomas Jefferson once states that \"it is wonde...  3.458634   \n",
       "\n",
       "     syntax  vocabulary  phraseology   grammar  conventions  \n",
       "0  3.093063    3.287507     3.167188  3.104038     3.174666  \n",
       "1  3.009507    3.223502     3.105798  3.012920     3.060604  \n",
       "2  3.036429    3.236600     3.114464  3.043099     3.048575  "
      ]
     },
     "execution_count": 38,
     "metadata": {},
     "output_type": "execute_result"
    }
   ],
   "source": [
    "test_df"
   ]
  },
  {
   "cell_type": "code",
   "execution_count": 39,
   "id": "380c838d",
   "metadata": {
    "execution": {
     "iopub.execute_input": "2023-07-10T22:40:33.709377Z",
     "iopub.status.busy": "2023-07-10T22:40:33.708556Z",
     "iopub.status.idle": "2023-07-10T22:40:33.715279Z",
     "shell.execute_reply": "2023-07-10T22:40:33.714432Z"
    },
    "papermill": {
     "duration": 0.022811,
     "end_time": "2023-07-10T22:40:33.717197",
     "exception": false,
     "start_time": "2023-07-10T22:40:33.694386",
     "status": "completed"
    },
    "tags": []
   },
   "outputs": [],
   "source": [
    "test_df = test_df.drop(['full_text'], axis=1)"
   ]
  },
  {
   "cell_type": "code",
   "execution_count": 40,
   "id": "7403b07e",
   "metadata": {
    "execution": {
     "iopub.execute_input": "2023-07-10T22:40:33.745857Z",
     "iopub.status.busy": "2023-07-10T22:40:33.745133Z",
     "iopub.status.idle": "2023-07-10T22:40:33.757734Z",
     "shell.execute_reply": "2023-07-10T22:40:33.756464Z"
    },
    "papermill": {
     "duration": 0.029239,
     "end_time": "2023-07-10T22:40:33.759919",
     "exception": false,
     "start_time": "2023-07-10T22:40:33.730680",
     "status": "completed"
    },
    "tags": []
   },
   "outputs": [
    {
     "data": {
      "text/html": [
       "<div>\n",
       "<style scoped>\n",
       "    .dataframe tbody tr th:only-of-type {\n",
       "        vertical-align: middle;\n",
       "    }\n",
       "\n",
       "    .dataframe tbody tr th {\n",
       "        vertical-align: top;\n",
       "    }\n",
       "\n",
       "    .dataframe thead th {\n",
       "        text-align: right;\n",
       "    }\n",
       "</style>\n",
       "<table border=\"1\" class=\"dataframe\">\n",
       "  <thead>\n",
       "    <tr style=\"text-align: right;\">\n",
       "      <th></th>\n",
       "      <th>text_id</th>\n",
       "      <th>cohesion</th>\n",
       "      <th>syntax</th>\n",
       "      <th>vocabulary</th>\n",
       "      <th>phraseology</th>\n",
       "      <th>grammar</th>\n",
       "      <th>conventions</th>\n",
       "    </tr>\n",
       "  </thead>\n",
       "  <tbody>\n",
       "    <tr>\n",
       "      <th>0</th>\n",
       "      <td>0000C359D63E</td>\n",
       "      <td>2.977096</td>\n",
       "      <td>3.093063</td>\n",
       "      <td>3.287507</td>\n",
       "      <td>3.167188</td>\n",
       "      <td>3.104038</td>\n",
       "      <td>3.174666</td>\n",
       "    </tr>\n",
       "    <tr>\n",
       "      <th>1</th>\n",
       "      <td>000BAD50D026</td>\n",
       "      <td>2.918421</td>\n",
       "      <td>3.009507</td>\n",
       "      <td>3.223502</td>\n",
       "      <td>3.105798</td>\n",
       "      <td>3.012920</td>\n",
       "      <td>3.060604</td>\n",
       "    </tr>\n",
       "    <tr>\n",
       "      <th>2</th>\n",
       "      <td>00367BB2546B</td>\n",
       "      <td>3.458634</td>\n",
       "      <td>3.036429</td>\n",
       "      <td>3.236600</td>\n",
       "      <td>3.114464</td>\n",
       "      <td>3.043099</td>\n",
       "      <td>3.048575</td>\n",
       "    </tr>\n",
       "  </tbody>\n",
       "</table>\n",
       "</div>"
      ],
      "text/plain": [
       "        text_id  cohesion    syntax  vocabulary  phraseology   grammar  \\\n",
       "0  0000C359D63E  2.977096  3.093063    3.287507     3.167188  3.104038   \n",
       "1  000BAD50D026  2.918421  3.009507    3.223502     3.105798  3.012920   \n",
       "2  00367BB2546B  3.458634  3.036429    3.236600     3.114464  3.043099   \n",
       "\n",
       "   conventions  \n",
       "0     3.174666  \n",
       "1     3.060604  \n",
       "2     3.048575  "
      ]
     },
     "execution_count": 40,
     "metadata": {},
     "output_type": "execute_result"
    }
   ],
   "source": [
    "test_df"
   ]
  },
  {
   "cell_type": "code",
   "execution_count": 41,
   "id": "1734864d",
   "metadata": {
    "execution": {
     "iopub.execute_input": "2023-07-10T22:40:33.790153Z",
     "iopub.status.busy": "2023-07-10T22:40:33.789407Z",
     "iopub.status.idle": "2023-07-10T22:40:33.796476Z",
     "shell.execute_reply": "2023-07-10T22:40:33.795559Z"
    },
    "papermill": {
     "duration": 0.024259,
     "end_time": "2023-07-10T22:40:33.798656",
     "exception": false,
     "start_time": "2023-07-10T22:40:33.774397",
     "status": "completed"
    },
    "tags": []
   },
   "outputs": [],
   "source": [
    "test_df.to_csv('submission.csv', index=False)"
   ]
  }
 ],
 "metadata": {
  "kernelspec": {
   "display_name": "Python 3",
   "language": "python",
   "name": "python3"
  },
  "language_info": {
   "codemirror_mode": {
    "name": "ipython",
    "version": 3
   },
   "file_extension": ".py",
   "mimetype": "text/x-python",
   "name": "python",
   "nbconvert_exporter": "python",
   "pygments_lexer": "ipython3",
   "version": "3.10.10"
  },
  "papermill": {
   "default_parameters": {},
   "duration": 64.558271,
   "end_time": "2023-07-10T22:40:34.633851",
   "environment_variables": {},
   "exception": null,
   "input_path": "__notebook__.ipynb",
   "output_path": "__notebook__.ipynb",
   "parameters": {},
   "start_time": "2023-07-10T22:39:30.075580",
   "version": "2.4.0"
  }
 },
 "nbformat": 4,
 "nbformat_minor": 5
}
