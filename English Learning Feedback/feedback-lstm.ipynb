{
 "cells": [
  {
   "cell_type": "code",
   "execution_count": 1,
   "id": "38521026",
   "metadata": {
    "_cell_guid": "b1076dfc-b9ad-4769-8c92-a6c4dae69d19",
    "_uuid": "8f2839f25d086af736a60e9eeb907d3b93b6e0e5",
    "execution": {
     "iopub.execute_input": "2023-07-10T21:39:27.641844Z",
     "iopub.status.busy": "2023-07-10T21:39:27.641344Z",
     "iopub.status.idle": "2023-07-10T21:39:27.656789Z",
     "shell.execute_reply": "2023-07-10T21:39:27.655481Z"
    },
    "papermill": {
     "duration": 0.028876,
     "end_time": "2023-07-10T21:39:27.659132",
     "exception": false,
     "start_time": "2023-07-10T21:39:27.630256",
     "status": "completed"
    },
    "tags": []
   },
   "outputs": [
    {
     "name": "stdout",
     "output_type": "stream",
     "text": [
      "/kaggle/input/feedback-prize-english-language-learning/sample_submission.csv\n",
      "/kaggle/input/feedback-prize-english-language-learning/train.csv\n",
      "/kaggle/input/feedback-prize-english-language-learning/test.csv\n"
     ]
    }
   ],
   "source": [
    "# This Python 3 environment comes with many helpful analytics libraries installed\n",
    "# It is defined by the kaggle/python Docker image: https://github.com/kaggle/docker-python\n",
    "# For example, here's several helpful packages to load\n",
    "\n",
    "import numpy as np # linear algebra\n",
    "import pandas as pd # data processing, CSV file I/O (e.g. pd.read_csv)\n",
    "\n",
    "# Input data files are available in the read-only \"../input/\" directory\n",
    "# For example, running this (by clicking run or pressing Shift+Enter) will list all files under the input directory\n",
    "\n",
    "import os\n",
    "for dirname, _, filenames in os.walk('/kaggle/input'):\n",
    "    for filename in filenames:\n",
    "        print(os.path.join(dirname, filename))\n",
    "\n",
    "# You can write up to 20GB to the current directory (/kaggle/working/) that gets preserved as output when you create a version using \"Save & Run All\" \n",
    "# You can also write temporary files to /kaggle/temp/, but they won't be saved outside of the current session"
   ]
  },
  {
   "cell_type": "code",
   "execution_count": 2,
   "id": "2a3c2f47",
   "metadata": {
    "execution": {
     "iopub.execute_input": "2023-07-10T21:39:27.678609Z",
     "iopub.status.busy": "2023-07-10T21:39:27.678320Z",
     "iopub.status.idle": "2023-07-10T21:39:42.533599Z",
     "shell.execute_reply": "2023-07-10T21:39:42.532477Z"
    },
    "papermill": {
     "duration": 14.867767,
     "end_time": "2023-07-10T21:39:42.536105",
     "exception": false,
     "start_time": "2023-07-10T21:39:27.668338",
     "status": "completed"
    },
    "tags": []
   },
   "outputs": [
    {
     "name": "stdout",
     "output_type": "stream",
     "text": [
      "Collecting word2number\r\n",
      "  Downloading word2number-1.1.zip (9.7 kB)\r\n",
      "  Preparing metadata (setup.py) ... \u001b[?25l-\b \b\\\b \bdone\r\n",
      "\u001b[?25hBuilding wheels for collected packages: word2number\r\n",
      "  Building wheel for word2number (setup.py) ... \u001b[?25l-\b \b\\\b \b|\b \bdone\r\n",
      "\u001b[?25h  Created wheel for word2number: filename=word2number-1.1-py3-none-any.whl size=5583 sha256=11fcde1ef84d5c3a4b96ace4c06f7b9827a6b1da60163be46a7391cd2a9268b6\r\n",
      "  Stored in directory: /root/.cache/pip/wheels/84/ff/26/d3cfbd971e96c5aa3737ecfced81628830d7359b55fbb8ca3b\r\n",
      "Successfully built word2number\r\n",
      "Installing collected packages: word2number\r\n",
      "Successfully installed word2number-1.1\r\n",
      "\u001b[33mWARNING: Running pip as the 'root' user can result in broken permissions and conflicting behaviour with the system package manager. It is recommended to use a virtual environment instead: https://pip.pypa.io/warnings/venv\u001b[0m\u001b[33m\r\n",
      "\u001b[0m"
     ]
    }
   ],
   "source": [
    "!pip install word2number"
   ]
  },
  {
   "cell_type": "code",
   "execution_count": 3,
   "id": "dcf9acfc",
   "metadata": {
    "execution": {
     "iopub.execute_input": "2023-07-10T21:39:42.557816Z",
     "iopub.status.busy": "2023-07-10T21:39:42.557503Z",
     "iopub.status.idle": "2023-07-10T21:39:54.046393Z",
     "shell.execute_reply": "2023-07-10T21:39:54.045469Z"
    },
    "papermill": {
     "duration": 11.502742,
     "end_time": "2023-07-10T21:39:54.049038",
     "exception": false,
     "start_time": "2023-07-10T21:39:42.546296",
     "status": "completed"
    },
    "tags": []
   },
   "outputs": [
    {
     "name": "stderr",
     "output_type": "stream",
     "text": [
      "/opt/conda/lib/python3.10/site-packages/tensorflow_io/python/ops/__init__.py:98: UserWarning: unable to load libtensorflow_io_plugins.so: unable to open file: libtensorflow_io_plugins.so, from paths: ['/opt/conda/lib/python3.10/site-packages/tensorflow_io/python/ops/libtensorflow_io_plugins.so']\n",
      "caused by: ['/opt/conda/lib/python3.10/site-packages/tensorflow_io/python/ops/libtensorflow_io_plugins.so: undefined symbol: _ZN3tsl6StatusC1EN10tensorflow5error4CodeESt17basic_string_viewIcSt11char_traitsIcEENS_14SourceLocationE']\n",
      "  warnings.warn(f\"unable to load libtensorflow_io_plugins.so: {e}\")\n",
      "/opt/conda/lib/python3.10/site-packages/tensorflow_io/python/ops/__init__.py:104: UserWarning: file system plugins are not loaded: unable to open file: libtensorflow_io.so, from paths: ['/opt/conda/lib/python3.10/site-packages/tensorflow_io/python/ops/libtensorflow_io.so']\n",
      "caused by: ['/opt/conda/lib/python3.10/site-packages/tensorflow_io/python/ops/libtensorflow_io.so: undefined symbol: _ZTVN10tensorflow13GcsFileSystemE']\n",
      "  warnings.warn(f\"file system plugins are not loaded: {e}\")\n"
     ]
    }
   ],
   "source": [
    "import nltk\n",
    "import datetime as dt\n",
    "import seaborn as sns\n",
    "\n",
    "# For Text pre-processing\n",
    "from word2number import w2n\n",
    "from nltk.corpus import stopwords\n",
    "from nltk.stem import PorterStemmer\n",
    "from nltk.tokenize import word_tokenize\n",
    "from nltk.stem import WordNetLemmatizer\n",
    "from nltk import word_tokenize, pos_tag, pos_tag_sents\n",
    "\n",
    "# TF\n",
    "import tensorflow_hub as hub\n",
    "from keras.models import Sequential\n",
    "from keras.layers import Dense, Flatten\n",
    "from tensorflow.keras.models import Model\n",
    "from tensorflow.keras.layers import LSTM, Dense, Embedding, Input, dot\n",
    "\n",
    "# Sklearn\n",
    "# Performance metrics\n",
    "from sklearn.metrics import f1_score \n",
    "from sklearn.metrics import accuracy_score\n",
    "# Binary Relevance\n",
    "from sklearn.multiclass import OneVsRestClassifier \n",
    "# Model\n",
    "from sklearn.metrics import confusion_matrix\n",
    "from sklearn.naive_bayes import MultinomialNB\n",
    "from sklearn.linear_model import LogisticRegression\n",
    "from sklearn.preprocessing import MultiLabelBinarizer\n",
    "from sklearn import model_selection, naive_bayes, svm\n",
    "from sklearn.model_selection import train_test_split\n",
    "from sklearn.feature_extraction.text import TfidfVectorizer\n",
    "from sklearn.feature_extraction.text import CountVectorizer"
   ]
  },
  {
   "cell_type": "code",
   "execution_count": 4,
   "id": "f672d9fd",
   "metadata": {
    "execution": {
     "iopub.execute_input": "2023-07-10T21:39:54.072409Z",
     "iopub.status.busy": "2023-07-10T21:39:54.071089Z",
     "iopub.status.idle": "2023-07-10T21:39:54.075839Z",
     "shell.execute_reply": "2023-07-10T21:39:54.074871Z"
    },
    "papermill": {
     "duration": 0.018203,
     "end_time": "2023-07-10T21:39:54.077983",
     "exception": false,
     "start_time": "2023-07-10T21:39:54.059780",
     "status": "completed"
    },
    "tags": []
   },
   "outputs": [],
   "source": [
    "#!pip3 show tensorflow"
   ]
  },
  {
   "cell_type": "code",
   "execution_count": 5,
   "id": "e4c147bc",
   "metadata": {
    "execution": {
     "iopub.execute_input": "2023-07-10T21:39:54.098932Z",
     "iopub.status.busy": "2023-07-10T21:39:54.098670Z",
     "iopub.status.idle": "2023-07-10T21:39:54.275892Z",
     "shell.execute_reply": "2023-07-10T21:39:54.274952Z"
    },
    "papermill": {
     "duration": 0.190596,
     "end_time": "2023-07-10T21:39:54.278474",
     "exception": false,
     "start_time": "2023-07-10T21:39:54.087878",
     "status": "completed"
    },
    "tags": []
   },
   "outputs": [],
   "source": [
    "train_df = pd.read_csv('/kaggle/input/feedback-prize-english-language-learning/train.csv')\n",
    "test_df = pd.read_csv('/kaggle/input/feedback-prize-english-language-learning/test.csv')"
   ]
  },
  {
   "cell_type": "code",
   "execution_count": 6,
   "id": "bbde2e9c",
   "metadata": {
    "execution": {
     "iopub.execute_input": "2023-07-10T21:39:54.301516Z",
     "iopub.status.busy": "2023-07-10T21:39:54.300025Z",
     "iopub.status.idle": "2023-07-10T21:39:54.326269Z",
     "shell.execute_reply": "2023-07-10T21:39:54.325232Z"
    },
    "papermill": {
     "duration": 0.039943,
     "end_time": "2023-07-10T21:39:54.328857",
     "exception": false,
     "start_time": "2023-07-10T21:39:54.288914",
     "status": "completed"
    },
    "tags": []
   },
   "outputs": [
    {
     "data": {
      "text/html": [
       "<div>\n",
       "<style scoped>\n",
       "    .dataframe tbody tr th:only-of-type {\n",
       "        vertical-align: middle;\n",
       "    }\n",
       "\n",
       "    .dataframe tbody tr th {\n",
       "        vertical-align: top;\n",
       "    }\n",
       "\n",
       "    .dataframe thead th {\n",
       "        text-align: right;\n",
       "    }\n",
       "</style>\n",
       "<table border=\"1\" class=\"dataframe\">\n",
       "  <thead>\n",
       "    <tr style=\"text-align: right;\">\n",
       "      <th></th>\n",
       "      <th>text_id</th>\n",
       "      <th>full_text</th>\n",
       "      <th>cohesion</th>\n",
       "      <th>syntax</th>\n",
       "      <th>vocabulary</th>\n",
       "      <th>phraseology</th>\n",
       "      <th>grammar</th>\n",
       "      <th>conventions</th>\n",
       "    </tr>\n",
       "  </thead>\n",
       "  <tbody>\n",
       "    <tr>\n",
       "      <th>0</th>\n",
       "      <td>0016926B079C</td>\n",
       "      <td>I think that students would benefit from learn...</td>\n",
       "      <td>3.5</td>\n",
       "      <td>3.5</td>\n",
       "      <td>3.0</td>\n",
       "      <td>3.0</td>\n",
       "      <td>4.0</td>\n",
       "      <td>3.0</td>\n",
       "    </tr>\n",
       "    <tr>\n",
       "      <th>1</th>\n",
       "      <td>0022683E9EA5</td>\n",
       "      <td>When a problem is a change you have to let it ...</td>\n",
       "      <td>2.5</td>\n",
       "      <td>2.5</td>\n",
       "      <td>3.0</td>\n",
       "      <td>2.0</td>\n",
       "      <td>2.0</td>\n",
       "      <td>2.5</td>\n",
       "    </tr>\n",
       "    <tr>\n",
       "      <th>2</th>\n",
       "      <td>00299B378633</td>\n",
       "      <td>Dear, Principal\\n\\nIf u change the school poli...</td>\n",
       "      <td>3.0</td>\n",
       "      <td>3.5</td>\n",
       "      <td>3.0</td>\n",
       "      <td>3.0</td>\n",
       "      <td>3.0</td>\n",
       "      <td>2.5</td>\n",
       "    </tr>\n",
       "    <tr>\n",
       "      <th>3</th>\n",
       "      <td>003885A45F42</td>\n",
       "      <td>The best time in life is when you become yours...</td>\n",
       "      <td>4.5</td>\n",
       "      <td>4.5</td>\n",
       "      <td>4.5</td>\n",
       "      <td>4.5</td>\n",
       "      <td>4.0</td>\n",
       "      <td>5.0</td>\n",
       "    </tr>\n",
       "    <tr>\n",
       "      <th>4</th>\n",
       "      <td>0049B1DF5CCC</td>\n",
       "      <td>Small act of kindness can impact in other peop...</td>\n",
       "      <td>2.5</td>\n",
       "      <td>3.0</td>\n",
       "      <td>3.0</td>\n",
       "      <td>3.0</td>\n",
       "      <td>2.5</td>\n",
       "      <td>2.5</td>\n",
       "    </tr>\n",
       "  </tbody>\n",
       "</table>\n",
       "</div>"
      ],
      "text/plain": [
       "        text_id                                          full_text  cohesion  \\\n",
       "0  0016926B079C  I think that students would benefit from learn...       3.5   \n",
       "1  0022683E9EA5  When a problem is a change you have to let it ...       2.5   \n",
       "2  00299B378633  Dear, Principal\\n\\nIf u change the school poli...       3.0   \n",
       "3  003885A45F42  The best time in life is when you become yours...       4.5   \n",
       "4  0049B1DF5CCC  Small act of kindness can impact in other peop...       2.5   \n",
       "\n",
       "   syntax  vocabulary  phraseology  grammar  conventions  \n",
       "0     3.5         3.0          3.0      4.0          3.0  \n",
       "1     2.5         3.0          2.0      2.0          2.5  \n",
       "2     3.5         3.0          3.0      3.0          2.5  \n",
       "3     4.5         4.5          4.5      4.0          5.0  \n",
       "4     3.0         3.0          3.0      2.5          2.5  "
      ]
     },
     "execution_count": 6,
     "metadata": {},
     "output_type": "execute_result"
    }
   ],
   "source": [
    "train_df.head()"
   ]
  },
  {
   "cell_type": "code",
   "execution_count": 7,
   "id": "68c2ab48",
   "metadata": {
    "execution": {
     "iopub.execute_input": "2023-07-10T21:39:54.352264Z",
     "iopub.status.busy": "2023-07-10T21:39:54.351988Z",
     "iopub.status.idle": "2023-07-10T21:39:54.383507Z",
     "shell.execute_reply": "2023-07-10T21:39:54.382405Z"
    },
    "papermill": {
     "duration": 0.045932,
     "end_time": "2023-07-10T21:39:54.386141",
     "exception": false,
     "start_time": "2023-07-10T21:39:54.340209",
     "status": "completed"
    },
    "tags": []
   },
   "outputs": [
    {
     "data": {
      "text/html": [
       "<div>\n",
       "<style scoped>\n",
       "    .dataframe tbody tr th:only-of-type {\n",
       "        vertical-align: middle;\n",
       "    }\n",
       "\n",
       "    .dataframe tbody tr th {\n",
       "        vertical-align: top;\n",
       "    }\n",
       "\n",
       "    .dataframe thead th {\n",
       "        text-align: right;\n",
       "    }\n",
       "</style>\n",
       "<table border=\"1\" class=\"dataframe\">\n",
       "  <thead>\n",
       "    <tr style=\"text-align: right;\">\n",
       "      <th></th>\n",
       "      <th>cohesion</th>\n",
       "      <th>syntax</th>\n",
       "      <th>vocabulary</th>\n",
       "      <th>phraseology</th>\n",
       "      <th>grammar</th>\n",
       "      <th>conventions</th>\n",
       "    </tr>\n",
       "  </thead>\n",
       "  <tbody>\n",
       "    <tr>\n",
       "      <th>count</th>\n",
       "      <td>3911.000000</td>\n",
       "      <td>3911.000000</td>\n",
       "      <td>3911.000000</td>\n",
       "      <td>3911.000000</td>\n",
       "      <td>3911.000000</td>\n",
       "      <td>3911.000000</td>\n",
       "    </tr>\n",
       "    <tr>\n",
       "      <th>mean</th>\n",
       "      <td>3.127077</td>\n",
       "      <td>3.028254</td>\n",
       "      <td>3.235745</td>\n",
       "      <td>3.116850</td>\n",
       "      <td>3.032856</td>\n",
       "      <td>3.081053</td>\n",
       "    </tr>\n",
       "    <tr>\n",
       "      <th>std</th>\n",
       "      <td>0.662542</td>\n",
       "      <td>0.644399</td>\n",
       "      <td>0.583148</td>\n",
       "      <td>0.655997</td>\n",
       "      <td>0.699841</td>\n",
       "      <td>0.671450</td>\n",
       "    </tr>\n",
       "    <tr>\n",
       "      <th>min</th>\n",
       "      <td>1.000000</td>\n",
       "      <td>1.000000</td>\n",
       "      <td>1.000000</td>\n",
       "      <td>1.000000</td>\n",
       "      <td>1.000000</td>\n",
       "      <td>1.000000</td>\n",
       "    </tr>\n",
       "    <tr>\n",
       "      <th>25%</th>\n",
       "      <td>2.500000</td>\n",
       "      <td>2.500000</td>\n",
       "      <td>3.000000</td>\n",
       "      <td>2.500000</td>\n",
       "      <td>2.500000</td>\n",
       "      <td>2.500000</td>\n",
       "    </tr>\n",
       "    <tr>\n",
       "      <th>50%</th>\n",
       "      <td>3.000000</td>\n",
       "      <td>3.000000</td>\n",
       "      <td>3.000000</td>\n",
       "      <td>3.000000</td>\n",
       "      <td>3.000000</td>\n",
       "      <td>3.000000</td>\n",
       "    </tr>\n",
       "    <tr>\n",
       "      <th>75%</th>\n",
       "      <td>3.500000</td>\n",
       "      <td>3.500000</td>\n",
       "      <td>3.500000</td>\n",
       "      <td>3.500000</td>\n",
       "      <td>3.500000</td>\n",
       "      <td>3.500000</td>\n",
       "    </tr>\n",
       "    <tr>\n",
       "      <th>max</th>\n",
       "      <td>5.000000</td>\n",
       "      <td>5.000000</td>\n",
       "      <td>5.000000</td>\n",
       "      <td>5.000000</td>\n",
       "      <td>5.000000</td>\n",
       "      <td>5.000000</td>\n",
       "    </tr>\n",
       "  </tbody>\n",
       "</table>\n",
       "</div>"
      ],
      "text/plain": [
       "          cohesion       syntax   vocabulary  phraseology      grammar  \\\n",
       "count  3911.000000  3911.000000  3911.000000  3911.000000  3911.000000   \n",
       "mean      3.127077     3.028254     3.235745     3.116850     3.032856   \n",
       "std       0.662542     0.644399     0.583148     0.655997     0.699841   \n",
       "min       1.000000     1.000000     1.000000     1.000000     1.000000   \n",
       "25%       2.500000     2.500000     3.000000     2.500000     2.500000   \n",
       "50%       3.000000     3.000000     3.000000     3.000000     3.000000   \n",
       "75%       3.500000     3.500000     3.500000     3.500000     3.500000   \n",
       "max       5.000000     5.000000     5.000000     5.000000     5.000000   \n",
       "\n",
       "       conventions  \n",
       "count  3911.000000  \n",
       "mean      3.081053  \n",
       "std       0.671450  \n",
       "min       1.000000  \n",
       "25%       2.500000  \n",
       "50%       3.000000  \n",
       "75%       3.500000  \n",
       "max       5.000000  "
      ]
     },
     "execution_count": 7,
     "metadata": {},
     "output_type": "execute_result"
    }
   ],
   "source": [
    "train_df.describe()"
   ]
  },
  {
   "cell_type": "code",
   "execution_count": 8,
   "id": "673cb088",
   "metadata": {
    "execution": {
     "iopub.execute_input": "2023-07-10T21:39:54.409105Z",
     "iopub.status.busy": "2023-07-10T21:39:54.408785Z",
     "iopub.status.idle": "2023-07-10T21:39:54.419546Z",
     "shell.execute_reply": "2023-07-10T21:39:54.418586Z"
    },
    "papermill": {
     "duration": 0.024013,
     "end_time": "2023-07-10T21:39:54.421635",
     "exception": false,
     "start_time": "2023-07-10T21:39:54.397622",
     "status": "completed"
    },
    "tags": []
   },
   "outputs": [
    {
     "data": {
      "text/plain": [
       "text_id        0\n",
       "full_text      0\n",
       "cohesion       0\n",
       "syntax         0\n",
       "vocabulary     0\n",
       "phraseology    0\n",
       "grammar        0\n",
       "conventions    0\n",
       "dtype: int64"
      ]
     },
     "execution_count": 8,
     "metadata": {},
     "output_type": "execute_result"
    }
   ],
   "source": [
    "train_df.isnull().sum()"
   ]
  },
  {
   "cell_type": "code",
   "execution_count": 9,
   "id": "44cedce9",
   "metadata": {
    "execution": {
     "iopub.execute_input": "2023-07-10T21:39:54.445247Z",
     "iopub.status.busy": "2023-07-10T21:39:54.444961Z",
     "iopub.status.idle": "2023-07-10T21:39:54.604645Z",
     "shell.execute_reply": "2023-07-10T21:39:54.603050Z"
    },
    "papermill": {
     "duration": 0.173606,
     "end_time": "2023-07-10T21:39:54.606798",
     "exception": false,
     "start_time": "2023-07-10T21:39:54.433192",
     "status": "completed"
    },
    "tags": []
   },
   "outputs": [
    {
     "name": "stdout",
     "output_type": "stream",
     "text": [
      "[nltk_data] Downloading package wordnet to /usr/share/nltk_data...\n",
      "[nltk_data]   Package wordnet is already up-to-date!\n"
     ]
    },
    {
     "data": {
      "text/plain": [
       "True"
      ]
     },
     "execution_count": 9,
     "metadata": {},
     "output_type": "execute_result"
    }
   ],
   "source": [
    "import nltk\n",
    "nltk.download('wordnet')"
   ]
  },
  {
   "cell_type": "code",
   "execution_count": 10,
   "id": "3d0dcc4c",
   "metadata": {
    "execution": {
     "iopub.execute_input": "2023-07-10T21:39:54.630821Z",
     "iopub.status.busy": "2023-07-10T21:39:54.630049Z",
     "iopub.status.idle": "2023-07-10T21:39:55.919094Z",
     "shell.execute_reply": "2023-07-10T21:39:55.917854Z"
    },
    "papermill": {
     "duration": 1.302989,
     "end_time": "2023-07-10T21:39:55.921375",
     "exception": false,
     "start_time": "2023-07-10T21:39:54.618386",
     "status": "completed"
    },
    "tags": []
   },
   "outputs": [
    {
     "name": "stdout",
     "output_type": "stream",
     "text": [
      "Archive:  /usr/share/nltk_data/corpora/wordnet.zip\r\n",
      "   creating: /usr/share/nltk_data/corpora/wordnet/\r\n",
      "  inflating: /usr/share/nltk_data/corpora/wordnet/lexnames  \r\n",
      "  inflating: /usr/share/nltk_data/corpora/wordnet/data.verb  \r\n",
      "  inflating: /usr/share/nltk_data/corpora/wordnet/index.adv  \r\n",
      "  inflating: /usr/share/nltk_data/corpora/wordnet/adv.exc  \r\n",
      "  inflating: /usr/share/nltk_data/corpora/wordnet/index.verb  \r\n",
      "  inflating: /usr/share/nltk_data/corpora/wordnet/cntlist.rev  \r\n",
      "  inflating: /usr/share/nltk_data/corpora/wordnet/data.adj  \r\n",
      "  inflating: /usr/share/nltk_data/corpora/wordnet/index.adj  \r\n",
      "  inflating: /usr/share/nltk_data/corpora/wordnet/LICENSE  \r\n",
      "  inflating: /usr/share/nltk_data/corpora/wordnet/citation.bib  \r\n",
      "  inflating: /usr/share/nltk_data/corpora/wordnet/noun.exc  \r\n",
      "  inflating: /usr/share/nltk_data/corpora/wordnet/verb.exc  \r\n",
      "  inflating: /usr/share/nltk_data/corpora/wordnet/README  \r\n",
      "  inflating: /usr/share/nltk_data/corpora/wordnet/index.sense  \r\n",
      "  inflating: /usr/share/nltk_data/corpora/wordnet/data.noun  \r\n",
      "  inflating: /usr/share/nltk_data/corpora/wordnet/data.adv  \r\n",
      "  inflating: /usr/share/nltk_data/corpora/wordnet/index.noun  \r\n",
      "  inflating: /usr/share/nltk_data/corpora/wordnet/adj.exc  \r\n"
     ]
    }
   ],
   "source": [
    "!unzip /usr/share/nltk_data/corpora/wordnet.zip -d /usr/share/nltk_data/corpora/"
   ]
  },
  {
   "cell_type": "code",
   "execution_count": 11,
   "id": "902a6402",
   "metadata": {
    "execution": {
     "iopub.execute_input": "2023-07-10T21:39:55.946600Z",
     "iopub.status.busy": "2023-07-10T21:39:55.946219Z",
     "iopub.status.idle": "2023-07-10T21:39:55.952129Z",
     "shell.execute_reply": "2023-07-10T21:39:55.951166Z"
    },
    "papermill": {
     "duration": 0.020721,
     "end_time": "2023-07-10T21:39:55.954128",
     "exception": false,
     "start_time": "2023-07-10T21:39:55.933407",
     "status": "completed"
    },
    "tags": []
   },
   "outputs": [],
   "source": [
    "# remove nums from sentences\n",
    "def nums(x):\n",
    "    words = []\n",
    "    remove = []\n",
    "    for i in x:\n",
    "        try:\n",
    "            w2n.word_to_num(i)\n",
    "            remove.append(i)\n",
    "        except:\n",
    "            words.append(i)\n",
    "    \n",
    "    return \"\".join(words)"
   ]
  },
  {
   "cell_type": "code",
   "execution_count": 12,
   "id": "944dcb69",
   "metadata": {
    "execution": {
     "iopub.execute_input": "2023-07-10T21:39:55.978358Z",
     "iopub.status.busy": "2023-07-10T21:39:55.977599Z",
     "iopub.status.idle": "2023-07-10T21:39:55.983984Z",
     "shell.execute_reply": "2023-07-10T21:39:55.983162Z"
    },
    "papermill": {
     "duration": 0.020385,
     "end_time": "2023-07-10T21:39:55.985955",
     "exception": false,
     "start_time": "2023-07-10T21:39:55.965570",
     "status": "completed"
    },
    "tags": []
   },
   "outputs": [],
   "source": [
    "import re\n",
    "import string\n",
    "def clean_p1(sen):\n",
    "    sen = str(sen).lower()\n",
    "    sen = re.sub('\\[.*?\\]', '', sen)\n",
    "    sen = re.sub('https?://\\S+|www\\.\\S+', '', sen)\n",
    "    sen = re.sub('<.*?>+', '', sen)\n",
    "    sen = re.sub('[%s]' % re.escape(string.punctuation), '', sen)\n",
    "    sen = re.sub('\\n', '', sen)\n",
    "    sen = re.sub('\\w*\\d\\w*', '', sen)\n",
    "    return sen"
   ]
  },
  {
   "cell_type": "code",
   "execution_count": 13,
   "id": "dabc17e7",
   "metadata": {
    "execution": {
     "iopub.execute_input": "2023-07-10T21:39:56.009611Z",
     "iopub.status.busy": "2023-07-10T21:39:56.008966Z",
     "iopub.status.idle": "2023-07-10T21:40:15.134338Z",
     "shell.execute_reply": "2023-07-10T21:40:15.133375Z"
    },
    "papermill": {
     "duration": 19.139589,
     "end_time": "2023-07-10T21:40:15.136670",
     "exception": false,
     "start_time": "2023-07-10T21:39:55.997081",
     "status": "completed"
    },
    "tags": []
   },
   "outputs": [
    {
     "data": {
      "text/html": [
       "<div>\n",
       "<style scoped>\n",
       "    .dataframe tbody tr th:only-of-type {\n",
       "        vertical-align: middle;\n",
       "    }\n",
       "\n",
       "    .dataframe tbody tr th {\n",
       "        vertical-align: top;\n",
       "    }\n",
       "\n",
       "    .dataframe thead th {\n",
       "        text-align: right;\n",
       "    }\n",
       "</style>\n",
       "<table border=\"1\" class=\"dataframe\">\n",
       "  <thead>\n",
       "    <tr style=\"text-align: right;\">\n",
       "      <th></th>\n",
       "      <th>text_id</th>\n",
       "      <th>full_text</th>\n",
       "      <th>cohesion</th>\n",
       "      <th>syntax</th>\n",
       "      <th>vocabulary</th>\n",
       "      <th>phraseology</th>\n",
       "      <th>grammar</th>\n",
       "      <th>conventions</th>\n",
       "    </tr>\n",
       "  </thead>\n",
       "  <tbody>\n",
       "    <tr>\n",
       "      <th>0</th>\n",
       "      <td>0016926B079C</td>\n",
       "      <td>i think that students would benefit from learn...</td>\n",
       "      <td>3.5</td>\n",
       "      <td>3.5</td>\n",
       "      <td>3.0</td>\n",
       "      <td>3.0</td>\n",
       "      <td>4.0</td>\n",
       "      <td>3.0</td>\n",
       "    </tr>\n",
       "    <tr>\n",
       "      <th>1</th>\n",
       "      <td>0022683E9EA5</td>\n",
       "      <td>when a problem is a change you have to let it ...</td>\n",
       "      <td>2.5</td>\n",
       "      <td>2.5</td>\n",
       "      <td>3.0</td>\n",
       "      <td>2.0</td>\n",
       "      <td>2.0</td>\n",
       "      <td>2.5</td>\n",
       "    </tr>\n",
       "    <tr>\n",
       "      <th>2</th>\n",
       "      <td>00299B378633</td>\n",
       "      <td>dear principalif u change the school policy of...</td>\n",
       "      <td>3.0</td>\n",
       "      <td>3.5</td>\n",
       "      <td>3.0</td>\n",
       "      <td>3.0</td>\n",
       "      <td>3.0</td>\n",
       "      <td>2.5</td>\n",
       "    </tr>\n",
       "    <tr>\n",
       "      <th>3</th>\n",
       "      <td>003885A45F42</td>\n",
       "      <td>the best time in life is when you become yours...</td>\n",
       "      <td>4.5</td>\n",
       "      <td>4.5</td>\n",
       "      <td>4.5</td>\n",
       "      <td>4.5</td>\n",
       "      <td>4.0</td>\n",
       "      <td>5.0</td>\n",
       "    </tr>\n",
       "    <tr>\n",
       "      <th>4</th>\n",
       "      <td>0049B1DF5CCC</td>\n",
       "      <td>small act of kindness can impact in other peop...</td>\n",
       "      <td>2.5</td>\n",
       "      <td>3.0</td>\n",
       "      <td>3.0</td>\n",
       "      <td>3.0</td>\n",
       "      <td>2.5</td>\n",
       "      <td>2.5</td>\n",
       "    </tr>\n",
       "  </tbody>\n",
       "</table>\n",
       "</div>"
      ],
      "text/plain": [
       "        text_id                                          full_text  cohesion  \\\n",
       "0  0016926B079C  i think that students would benefit from learn...       3.5   \n",
       "1  0022683E9EA5  when a problem is a change you have to let it ...       2.5   \n",
       "2  00299B378633  dear principalif u change the school policy of...       3.0   \n",
       "3  003885A45F42  the best time in life is when you become yours...       4.5   \n",
       "4  0049B1DF5CCC  small act of kindness can impact in other peop...       2.5   \n",
       "\n",
       "   syntax  vocabulary  phraseology  grammar  conventions  \n",
       "0     3.5         3.0          3.0      4.0          3.0  \n",
       "1     2.5         3.0          2.0      2.0          2.5  \n",
       "2     3.5         3.0          3.0      3.0          2.5  \n",
       "3     4.5         4.5          4.5      4.0          5.0  \n",
       "4     3.0         3.0          3.0      2.5          2.5  "
      ]
     },
     "execution_count": 13,
     "metadata": {},
     "output_type": "execute_result"
    }
   ],
   "source": [
    "train_df['full_text'] = train_df['full_text'].apply(clean_p1)\n",
    "train_df['full_text'] = train_df['full_text'].map(lambda x: nums(x))\n",
    "train_df.head()"
   ]
  },
  {
   "cell_type": "code",
   "execution_count": 14,
   "id": "1a063c9c",
   "metadata": {
    "execution": {
     "iopub.execute_input": "2023-07-10T21:40:15.162345Z",
     "iopub.status.busy": "2023-07-10T21:40:15.161538Z",
     "iopub.status.idle": "2023-07-10T21:40:15.190583Z",
     "shell.execute_reply": "2023-07-10T21:40:15.189485Z"
    },
    "papermill": {
     "duration": 0.044164,
     "end_time": "2023-07-10T21:40:15.193091",
     "exception": false,
     "start_time": "2023-07-10T21:40:15.148927",
     "status": "completed"
    },
    "tags": []
   },
   "outputs": [
    {
     "data": {
      "text/html": [
       "<div>\n",
       "<style scoped>\n",
       "    .dataframe tbody tr th:only-of-type {\n",
       "        vertical-align: middle;\n",
       "    }\n",
       "\n",
       "    .dataframe tbody tr th {\n",
       "        vertical-align: top;\n",
       "    }\n",
       "\n",
       "    .dataframe thead th {\n",
       "        text-align: right;\n",
       "    }\n",
       "</style>\n",
       "<table border=\"1\" class=\"dataframe\">\n",
       "  <thead>\n",
       "    <tr style=\"text-align: right;\">\n",
       "      <th></th>\n",
       "      <th>text_id</th>\n",
       "      <th>full_text</th>\n",
       "    </tr>\n",
       "  </thead>\n",
       "  <tbody>\n",
       "    <tr>\n",
       "      <th>0</th>\n",
       "      <td>0000C359D63E</td>\n",
       "      <td>when a person has no experience on a job their...</td>\n",
       "    </tr>\n",
       "    <tr>\n",
       "      <th>1</th>\n",
       "      <td>000BAD50D026</td>\n",
       "      <td>do you think students would benefit from being...</td>\n",
       "    </tr>\n",
       "    <tr>\n",
       "      <th>2</th>\n",
       "      <td>00367BB2546B</td>\n",
       "      <td>thomas jefferson once states that it is wonder...</td>\n",
       "    </tr>\n",
       "  </tbody>\n",
       "</table>\n",
       "</div>"
      ],
      "text/plain": [
       "        text_id                                          full_text\n",
       "0  0000C359D63E  when a person has no experience on a job their...\n",
       "1  000BAD50D026  do you think students would benefit from being...\n",
       "2  00367BB2546B  thomas jefferson once states that it is wonder..."
      ]
     },
     "execution_count": 14,
     "metadata": {},
     "output_type": "execute_result"
    }
   ],
   "source": [
    "test_df['full_text'] = test_df['full_text'].apply(clean_p1)\n",
    "test_df['full_text'] = test_df['full_text'].map(lambda x: nums(x))\n",
    "test_df.head()"
   ]
  },
  {
   "cell_type": "code",
   "execution_count": 15,
   "id": "fc6dd0b3",
   "metadata": {
    "execution": {
     "iopub.execute_input": "2023-07-10T21:40:15.218956Z",
     "iopub.status.busy": "2023-07-10T21:40:15.218213Z",
     "iopub.status.idle": "2023-07-10T21:40:15.224235Z",
     "shell.execute_reply": "2023-07-10T21:40:15.223440Z"
    },
    "papermill": {
     "duration": 0.020156,
     "end_time": "2023-07-10T21:40:15.226183",
     "exception": false,
     "start_time": "2023-07-10T21:40:15.206027",
     "status": "completed"
    },
    "tags": []
   },
   "outputs": [],
   "source": [
    "# cleaning the text\n",
    "def textPre(sen):\n",
    "    #tokenize\n",
    "    tokens = word_tokenize(sen)\n",
    "    stop_words = set(stopwords.words('english'))\n",
    "    \n",
    "    #remove\n",
    "    filtered_words = [w for w in tokens if w not in stop_words]\n",
    "    \n",
    "    #stemming\n",
    "    #stem = PorterStemmer()\n",
    "    #stem_words = [stem.stem(w) for w in filtered_words]\n",
    "    \n",
    "    #lemmatize\n",
    "    lemma = WordNetLemmatizer()\n",
    "    lemma_words = [lemma.lemmatize(w) for w in filtered_words]\n",
    "    \n",
    "    return \" \".join(lemma_words)"
   ]
  },
  {
   "cell_type": "code",
   "execution_count": 16,
   "id": "ae973fd4",
   "metadata": {
    "execution": {
     "iopub.execute_input": "2023-07-10T21:40:15.250568Z",
     "iopub.status.busy": "2023-07-10T21:40:15.250248Z",
     "iopub.status.idle": "2023-07-10T21:40:35.083445Z",
     "shell.execute_reply": "2023-07-10T21:40:35.082362Z"
    },
    "papermill": {
     "duration": 19.847975,
     "end_time": "2023-07-10T21:40:35.085812",
     "exception": false,
     "start_time": "2023-07-10T21:40:15.237837",
     "status": "completed"
    },
    "tags": []
   },
   "outputs": [
    {
     "data": {
      "text/html": [
       "<div>\n",
       "<style scoped>\n",
       "    .dataframe tbody tr th:only-of-type {\n",
       "        vertical-align: middle;\n",
       "    }\n",
       "\n",
       "    .dataframe tbody tr th {\n",
       "        vertical-align: top;\n",
       "    }\n",
       "\n",
       "    .dataframe thead th {\n",
       "        text-align: right;\n",
       "    }\n",
       "</style>\n",
       "<table border=\"1\" class=\"dataframe\">\n",
       "  <thead>\n",
       "    <tr style=\"text-align: right;\">\n",
       "      <th></th>\n",
       "      <th>text_id</th>\n",
       "      <th>full_text</th>\n",
       "      <th>cohesion</th>\n",
       "      <th>syntax</th>\n",
       "      <th>vocabulary</th>\n",
       "      <th>phraseology</th>\n",
       "      <th>grammar</th>\n",
       "      <th>conventions</th>\n",
       "    </tr>\n",
       "  </thead>\n",
       "  <tbody>\n",
       "    <tr>\n",
       "      <th>0</th>\n",
       "      <td>0016926B079C</td>\n",
       "      <td>think student would benefit learning homebecau...</td>\n",
       "      <td>3.5</td>\n",
       "      <td>3.5</td>\n",
       "      <td>3.0</td>\n",
       "      <td>3.0</td>\n",
       "      <td>4.0</td>\n",
       "      <td>3.0</td>\n",
       "    </tr>\n",
       "    <tr>\n",
       "      <th>1</th>\n",
       "      <td>0022683E9EA5</td>\n",
       "      <td>problem change let best matter happening chang...</td>\n",
       "      <td>2.5</td>\n",
       "      <td>2.5</td>\n",
       "      <td>3.0</td>\n",
       "      <td>2.0</td>\n",
       "      <td>2.0</td>\n",
       "      <td>2.5</td>\n",
       "    </tr>\n",
       "    <tr>\n",
       "      <th>2</th>\n",
       "      <td>00299B378633</td>\n",
       "      <td>dear principalif u change school policy grade ...</td>\n",
       "      <td>3.0</td>\n",
       "      <td>3.5</td>\n",
       "      <td>3.0</td>\n",
       "      <td>3.0</td>\n",
       "      <td>3.0</td>\n",
       "      <td>2.5</td>\n",
       "    </tr>\n",
       "    <tr>\n",
       "      <th>3</th>\n",
       "      <td>003885A45F42</td>\n",
       "      <td>best time life become agree greatest accomplis...</td>\n",
       "      <td>4.5</td>\n",
       "      <td>4.5</td>\n",
       "      <td>4.5</td>\n",
       "      <td>4.5</td>\n",
       "      <td>4.0</td>\n",
       "      <td>5.0</td>\n",
       "    </tr>\n",
       "    <tr>\n",
       "      <th>4</th>\n",
       "      <td>0049B1DF5CCC</td>\n",
       "      <td>small act kindness impact people change people...</td>\n",
       "      <td>2.5</td>\n",
       "      <td>3.0</td>\n",
       "      <td>3.0</td>\n",
       "      <td>3.0</td>\n",
       "      <td>2.5</td>\n",
       "      <td>2.5</td>\n",
       "    </tr>\n",
       "  </tbody>\n",
       "</table>\n",
       "</div>"
      ],
      "text/plain": [
       "        text_id                                          full_text  cohesion  \\\n",
       "0  0016926B079C  think student would benefit learning homebecau...       3.5   \n",
       "1  0022683E9EA5  problem change let best matter happening chang...       2.5   \n",
       "2  00299B378633  dear principalif u change school policy grade ...       3.0   \n",
       "3  003885A45F42  best time life become agree greatest accomplis...       4.5   \n",
       "4  0049B1DF5CCC  small act kindness impact people change people...       2.5   \n",
       "\n",
       "   syntax  vocabulary  phraseology  grammar  conventions  \n",
       "0     3.5         3.0          3.0      4.0          3.0  \n",
       "1     2.5         3.0          2.0      2.0          2.5  \n",
       "2     3.5         3.0          3.0      3.0          2.5  \n",
       "3     4.5         4.5          4.5      4.0          5.0  \n",
       "4     3.0         3.0          3.0      2.5          2.5  "
      ]
     },
     "execution_count": 16,
     "metadata": {},
     "output_type": "execute_result"
    }
   ],
   "source": [
    "train_df['full_text'] = train_df['full_text'].apply(textPre)\n",
    "train_df.head()"
   ]
  },
  {
   "cell_type": "code",
   "execution_count": 17,
   "id": "95d0705d",
   "metadata": {
    "execution": {
     "iopub.execute_input": "2023-07-10T21:40:35.112912Z",
     "iopub.status.busy": "2023-07-10T21:40:35.112116Z",
     "iopub.status.idle": "2023-07-10T21:40:35.139479Z",
     "shell.execute_reply": "2023-07-10T21:40:35.138563Z"
    },
    "papermill": {
     "duration": 0.042118,
     "end_time": "2023-07-10T21:40:35.141688",
     "exception": false,
     "start_time": "2023-07-10T21:40:35.099570",
     "status": "completed"
    },
    "tags": []
   },
   "outputs": [
    {
     "data": {
      "text/html": [
       "<div>\n",
       "<style scoped>\n",
       "    .dataframe tbody tr th:only-of-type {\n",
       "        vertical-align: middle;\n",
       "    }\n",
       "\n",
       "    .dataframe tbody tr th {\n",
       "        vertical-align: top;\n",
       "    }\n",
       "\n",
       "    .dataframe thead th {\n",
       "        text-align: right;\n",
       "    }\n",
       "</style>\n",
       "<table border=\"1\" class=\"dataframe\">\n",
       "  <thead>\n",
       "    <tr style=\"text-align: right;\">\n",
       "      <th></th>\n",
       "      <th>text_id</th>\n",
       "      <th>full_text</th>\n",
       "    </tr>\n",
       "  </thead>\n",
       "  <tbody>\n",
       "    <tr>\n",
       "      <th>0</th>\n",
       "      <td>0000C359D63E</td>\n",
       "      <td>person experience job always going good people...</td>\n",
       "    </tr>\n",
       "    <tr>\n",
       "      <th>1</th>\n",
       "      <td>000BAD50D026</td>\n",
       "      <td>think student would benefit able attend class ...</td>\n",
       "    </tr>\n",
       "    <tr>\n",
       "      <th>2</th>\n",
       "      <td>00367BB2546B</td>\n",
       "      <td>thomas jefferson state wonderful much get done...</td>\n",
       "    </tr>\n",
       "  </tbody>\n",
       "</table>\n",
       "</div>"
      ],
      "text/plain": [
       "        text_id                                          full_text\n",
       "0  0000C359D63E  person experience job always going good people...\n",
       "1  000BAD50D026  think student would benefit able attend class ...\n",
       "2  00367BB2546B  thomas jefferson state wonderful much get done..."
      ]
     },
     "execution_count": 17,
     "metadata": {},
     "output_type": "execute_result"
    }
   ],
   "source": [
    "test_df['full_text'] = test_df['full_text'].apply(textPre)\n",
    "test_df.head()"
   ]
  },
  {
   "cell_type": "markdown",
   "id": "eb56bbb2",
   "metadata": {
    "papermill": {
     "duration": 0.011608,
     "end_time": "2023-07-10T21:40:35.165631",
     "exception": false,
     "start_time": "2023-07-10T21:40:35.154023",
     "status": "completed"
    },
    "tags": []
   },
   "source": [
    "**Split**"
   ]
  },
  {
   "cell_type": "code",
   "execution_count": 18,
   "id": "1557d52b",
   "metadata": {
    "execution": {
     "iopub.execute_input": "2023-07-10T21:40:35.190361Z",
     "iopub.status.busy": "2023-07-10T21:40:35.190077Z",
     "iopub.status.idle": "2023-07-10T21:40:35.200472Z",
     "shell.execute_reply": "2023-07-10T21:40:35.199634Z"
    },
    "papermill": {
     "duration": 0.025082,
     "end_time": "2023-07-10T21:40:35.202455",
     "exception": false,
     "start_time": "2023-07-10T21:40:35.177373",
     "status": "completed"
    },
    "tags": []
   },
   "outputs": [],
   "source": [
    "X_train, X_val, Y_train, Y_val = train_test_split(train_df['full_text'],\n",
    "                                                  train_df[['cohesion', 'syntax', 'vocabulary',\n",
    "                                                              'phraseology', 'grammar', 'conventions']],\n",
    "                                                  test_size=0.25,\n",
    "                                                  random_state=0)"
   ]
  },
  {
   "cell_type": "markdown",
   "id": "6f632f4e",
   "metadata": {
    "papermill": {
     "duration": 0.011467,
     "end_time": "2023-07-10T21:40:35.225943",
     "exception": false,
     "start_time": "2023-07-10T21:40:35.214476",
     "status": "completed"
    },
    "tags": []
   },
   "source": [
    "**Encoder**"
   ]
  },
  {
   "cell_type": "code",
   "execution_count": 19,
   "id": "9be78ac0",
   "metadata": {
    "execution": {
     "iopub.execute_input": "2023-07-10T21:40:35.251696Z",
     "iopub.status.busy": "2023-07-10T21:40:35.250943Z",
     "iopub.status.idle": "2023-07-10T21:40:57.343363Z",
     "shell.execute_reply": "2023-07-10T21:40:57.342362Z"
    },
    "papermill": {
     "duration": 22.108047,
     "end_time": "2023-07-10T21:40:57.345790",
     "exception": false,
     "start_time": "2023-07-10T21:40:35.237743",
     "status": "completed"
    },
    "tags": []
   },
   "outputs": [],
   "source": [
    "import tensorflow_hub as hub\n",
    "\n",
    "embed = hub.load(\"https://tfhub.dev/google/universal-sentence-encoder/4\")"
   ]
  },
  {
   "cell_type": "code",
   "execution_count": 20,
   "id": "6260c458",
   "metadata": {
    "execution": {
     "iopub.execute_input": "2023-07-10T21:40:57.371532Z",
     "iopub.status.busy": "2023-07-10T21:40:57.371210Z",
     "iopub.status.idle": "2023-07-10T21:40:57.379407Z",
     "shell.execute_reply": "2023-07-10T21:40:57.378547Z"
    },
    "papermill": {
     "duration": 0.023196,
     "end_time": "2023-07-10T21:40:57.381569",
     "exception": false,
     "start_time": "2023-07-10T21:40:57.358373",
     "status": "completed"
    },
    "tags": []
   },
   "outputs": [
    {
     "data": {
      "text/plain": [
       "(2933,)"
      ]
     },
     "execution_count": 20,
     "metadata": {},
     "output_type": "execute_result"
    }
   ],
   "source": [
    "X_train.shape"
   ]
  },
  {
   "cell_type": "code",
   "execution_count": 21,
   "id": "abc77bec",
   "metadata": {
    "execution": {
     "iopub.execute_input": "2023-07-10T21:40:57.407045Z",
     "iopub.status.busy": "2023-07-10T21:40:57.406756Z",
     "iopub.status.idle": "2023-07-10T21:40:57.412330Z",
     "shell.execute_reply": "2023-07-10T21:40:57.411476Z"
    },
    "papermill": {
     "duration": 0.020626,
     "end_time": "2023-07-10T21:40:57.414300",
     "exception": false,
     "start_time": "2023-07-10T21:40:57.393674",
     "status": "completed"
    },
    "tags": []
   },
   "outputs": [
    {
     "data": {
      "text/plain": [
       "(978,)"
      ]
     },
     "execution_count": 21,
     "metadata": {},
     "output_type": "execute_result"
    }
   ],
   "source": [
    "X_val.shape"
   ]
  },
  {
   "cell_type": "code",
   "execution_count": 22,
   "id": "2895bd20",
   "metadata": {
    "execution": {
     "iopub.execute_input": "2023-07-10T21:40:57.441093Z",
     "iopub.status.busy": "2023-07-10T21:40:57.440805Z",
     "iopub.status.idle": "2023-07-10T21:41:04.230449Z",
     "shell.execute_reply": "2023-07-10T21:41:04.229470Z"
    },
    "papermill": {
     "duration": 6.805383,
     "end_time": "2023-07-10T21:41:04.232821",
     "exception": false,
     "start_time": "2023-07-10T21:40:57.427438",
     "status": "completed"
    },
    "tags": []
   },
   "outputs": [
    {
     "data": {
      "text/plain": [
       "<tf.Tensor: shape=(2933, 512), dtype=float32, numpy=\n",
       "array([[-0.00601561, -0.06652603,  0.02108635, ..., -0.05108357,\n",
       "        -0.0123414 , -0.04239651],\n",
       "       [-0.02461828, -0.06602024,  0.05491249, ..., -0.04495463,\n",
       "        -0.03307585, -0.03122788],\n",
       "       [ 0.02077105, -0.05657504,  0.04882124, ..., -0.01431783,\n",
       "        -0.05615058, -0.03726263],\n",
       "       ...,\n",
       "       [-0.00609461, -0.05737458,  0.01522228, ..., -0.05757954,\n",
       "        -0.04798666, -0.02569435],\n",
       "       [-0.04165009, -0.01235889,  0.05236395, ..., -0.05865194,\n",
       "        -0.04272122, -0.03269024],\n",
       "       [ 0.05272863, -0.06375311, -0.03791047, ..., -0.00301023,\n",
       "        -0.0579295 ,  0.00099267]], dtype=float32)>"
      ]
     },
     "execution_count": 22,
     "metadata": {},
     "output_type": "execute_result"
    }
   ],
   "source": [
    "train_embed = embed(X_train)\n",
    "train_embed"
   ]
  },
  {
   "cell_type": "code",
   "execution_count": 23,
   "id": "56c85d8c",
   "metadata": {
    "execution": {
     "iopub.execute_input": "2023-07-10T21:41:04.262183Z",
     "iopub.status.busy": "2023-07-10T21:41:04.261193Z",
     "iopub.status.idle": "2023-07-10T21:41:04.795818Z",
     "shell.execute_reply": "2023-07-10T21:41:04.794750Z"
    },
    "papermill": {
     "duration": 0.550661,
     "end_time": "2023-07-10T21:41:04.798258",
     "exception": false,
     "start_time": "2023-07-10T21:41:04.247597",
     "status": "completed"
    },
    "tags": []
   },
   "outputs": [
    {
     "data": {
      "text/plain": [
       "<tf.Tensor: shape=(978, 512), dtype=float32, numpy=\n",
       "array([[ 0.03024355, -0.05718406,  0.05548753, ..., -0.0302106 ,\n",
       "        -0.05388178,  0.04762599],\n",
       "       [-0.01791018, -0.06194515,  0.05407249, ...,  0.03332476,\n",
       "        -0.05954666, -0.0616127 ],\n",
       "       [-0.01453929, -0.05727329,  0.04859252, ..., -0.04892482,\n",
       "        -0.05722526,  0.04050262],\n",
       "       ...,\n",
       "       [ 0.02622108, -0.06949209,  0.04752782, ..., -0.04367892,\n",
       "         0.02593143,  0.02175921],\n",
       "       [ 0.01166182, -0.06007691,  0.0328596 , ..., -0.04817416,\n",
       "        -0.05720191, -0.05212624],\n",
       "       [-0.03688528, -0.05104927,  0.04550692, ...,  0.0484309 ,\n",
       "        -0.05076615,  0.01340574]], dtype=float32)>"
      ]
     },
     "execution_count": 23,
     "metadata": {},
     "output_type": "execute_result"
    }
   ],
   "source": [
    "val_embed = embed(X_val)\n",
    "val_embed"
   ]
  },
  {
   "cell_type": "code",
   "execution_count": 24,
   "id": "f7f58194",
   "metadata": {
    "execution": {
     "iopub.execute_input": "2023-07-10T21:41:04.827943Z",
     "iopub.status.busy": "2023-07-10T21:41:04.827233Z",
     "iopub.status.idle": "2023-07-10T21:41:05.334374Z",
     "shell.execute_reply": "2023-07-10T21:41:05.333592Z"
    },
    "papermill": {
     "duration": 0.531491,
     "end_time": "2023-07-10T21:41:05.344092",
     "exception": false,
     "start_time": "2023-07-10T21:41:04.812601",
     "status": "completed"
    },
    "tags": []
   },
   "outputs": [
    {
     "name": "stdout",
     "output_type": "stream",
     "text": [
      "Model: \"sequential\"\n",
      "_________________________________________________________________\n",
      " Layer (type)                Output Shape              Param #   \n",
      "=================================================================\n",
      " embedding (Embedding)       (None, 512, 128)          65536     \n",
      "                                                                 \n",
      " lstm (LSTM)                 (None, 512, 128)          131584    \n",
      "                                                                 \n",
      " dense (Dense)               (None, 512, 512)          66048     \n",
      "                                                                 \n",
      " lstm_1 (LSTM)               (None, 128)               328192    \n",
      "                                                                 \n",
      " dense_1 (Dense)             (None, 6)                 774       \n",
      "                                                                 \n",
      "=================================================================\n",
      "Total params: 592,134\n",
      "Trainable params: 592,134\n",
      "Non-trainable params: 0\n",
      "_________________________________________________________________\n",
      "None\n"
     ]
    }
   ],
   "source": [
    "input_dim = len(train_embed[0])\n",
    "inputs = Input(shape=(input_dim,))\n",
    "\n",
    "model=Sequential()\n",
    "model.add(Embedding(input_dim=512,output_dim=128,input_length=input_dim))\n",
    "model.add(LSTM(128,return_sequences=True))\n",
    "\n",
    "model.add(Dense(input_dim,activation='softmax'))\n",
    "model.add(LSTM(128,dropout=0.2,recurrent_dropout=0.2))\n",
    "model.add(Dense(6, activation='linear'))\n",
    "model.compile(loss='mse',optimizer='adam', metrics=['accuracy'])\n",
    "print(model.summary())"
   ]
  },
  {
   "cell_type": "code",
   "execution_count": 25,
   "id": "ec57f941",
   "metadata": {
    "execution": {
     "iopub.execute_input": "2023-07-10T21:41:05.373317Z",
     "iopub.status.busy": "2023-07-10T21:41:05.372983Z",
     "iopub.status.idle": "2023-07-10T21:46:42.660554Z",
     "shell.execute_reply": "2023-07-10T21:46:42.659348Z"
    },
    "papermill": {
     "duration": 337.304965,
     "end_time": "2023-07-10T21:46:42.663280",
     "exception": false,
     "start_time": "2023-07-10T21:41:05.358315",
     "status": "completed"
    },
    "tags": []
   },
   "outputs": [
    {
     "name": "stdout",
     "output_type": "stream",
     "text": [
      "Epoch 1/5\n",
      "23/23 [==============================] - 74s 3s/step - loss: 4.0973 - accuracy: 0.2223 - val_loss: 0.5320 - val_accuracy: 0.2444\n",
      "Epoch 2/5\n",
      "23/23 [==============================] - 66s 3s/step - loss: 0.4711 - accuracy: 0.1221 - val_loss: 0.4638 - val_accuracy: 0.0665\n",
      "Epoch 3/5\n",
      "23/23 [==============================] - 67s 3s/step - loss: 0.4319 - accuracy: 0.1848 - val_loss: 0.4433 - val_accuracy: 0.2444\n",
      "Epoch 4/5\n",
      "23/23 [==============================] - 65s 3s/step - loss: 0.4274 - accuracy: 0.2243 - val_loss: 0.4482 - val_accuracy: 0.2444\n",
      "Epoch 5/5\n",
      "23/23 [==============================] - 66s 3s/step - loss: 0.4260 - accuracy: 0.2182 - val_loss: 0.4413 - val_accuracy: 0.2444\n"
     ]
    },
    {
     "data": {
      "text/plain": [
       "<keras.callbacks.History at 0x7fa6505127d0>"
      ]
     },
     "execution_count": 25,
     "metadata": {},
     "output_type": "execute_result"
    }
   ],
   "source": [
    "batch_size=128\n",
    "model.fit(train_embed, Y_train, epochs=5, batch_size=batch_size, verbose=1,\n",
    "         validation_data=(np.array(val_embed), np.array(Y_val))\n",
    "         )"
   ]
  },
  {
   "cell_type": "code",
   "execution_count": 26,
   "id": "6e6f8824",
   "metadata": {
    "execution": {
     "iopub.execute_input": "2023-07-10T21:46:42.712711Z",
     "iopub.status.busy": "2023-07-10T21:46:42.712363Z",
     "iopub.status.idle": "2023-07-10T21:46:42.724672Z",
     "shell.execute_reply": "2023-07-10T21:46:42.723477Z"
    },
    "papermill": {
     "duration": 0.039586,
     "end_time": "2023-07-10T21:46:42.726907",
     "exception": false,
     "start_time": "2023-07-10T21:46:42.687321",
     "status": "completed"
    },
    "tags": []
   },
   "outputs": [
    {
     "data": {
      "text/html": [
       "<div>\n",
       "<style scoped>\n",
       "    .dataframe tbody tr th:only-of-type {\n",
       "        vertical-align: middle;\n",
       "    }\n",
       "\n",
       "    .dataframe tbody tr th {\n",
       "        vertical-align: top;\n",
       "    }\n",
       "\n",
       "    .dataframe thead th {\n",
       "        text-align: right;\n",
       "    }\n",
       "</style>\n",
       "<table border=\"1\" class=\"dataframe\">\n",
       "  <thead>\n",
       "    <tr style=\"text-align: right;\">\n",
       "      <th></th>\n",
       "      <th>text_id</th>\n",
       "      <th>full_text</th>\n",
       "    </tr>\n",
       "  </thead>\n",
       "  <tbody>\n",
       "    <tr>\n",
       "      <th>0</th>\n",
       "      <td>0000C359D63E</td>\n",
       "      <td>person experience job always going good people...</td>\n",
       "    </tr>\n",
       "    <tr>\n",
       "      <th>1</th>\n",
       "      <td>000BAD50D026</td>\n",
       "      <td>think student would benefit able attend class ...</td>\n",
       "    </tr>\n",
       "    <tr>\n",
       "      <th>2</th>\n",
       "      <td>00367BB2546B</td>\n",
       "      <td>thomas jefferson state wonderful much get done...</td>\n",
       "    </tr>\n",
       "  </tbody>\n",
       "</table>\n",
       "</div>"
      ],
      "text/plain": [
       "        text_id                                          full_text\n",
       "0  0000C359D63E  person experience job always going good people...\n",
       "1  000BAD50D026  think student would benefit able attend class ...\n",
       "2  00367BB2546B  thomas jefferson state wonderful much get done..."
      ]
     },
     "execution_count": 26,
     "metadata": {},
     "output_type": "execute_result"
    }
   ],
   "source": [
    "test_df.head()"
   ]
  },
  {
   "cell_type": "code",
   "execution_count": 27,
   "id": "f25b8611",
   "metadata": {
    "execution": {
     "iopub.execute_input": "2023-07-10T21:46:42.777898Z",
     "iopub.status.busy": "2023-07-10T21:46:42.777558Z",
     "iopub.status.idle": "2023-07-10T21:46:42.784885Z",
     "shell.execute_reply": "2023-07-10T21:46:42.783816Z"
    },
    "papermill": {
     "duration": 0.034793,
     "end_time": "2023-07-10T21:46:42.787291",
     "exception": false,
     "start_time": "2023-07-10T21:46:42.752498",
     "status": "completed"
    },
    "tags": []
   },
   "outputs": [
    {
     "data": {
      "text/plain": [
       "(3, 2)"
      ]
     },
     "execution_count": 27,
     "metadata": {},
     "output_type": "execute_result"
    }
   ],
   "source": [
    "test_df.shape"
   ]
  },
  {
   "cell_type": "code",
   "execution_count": 28,
   "id": "d48262f0",
   "metadata": {
    "execution": {
     "iopub.execute_input": "2023-07-10T21:46:42.839196Z",
     "iopub.status.busy": "2023-07-10T21:46:42.838834Z",
     "iopub.status.idle": "2023-07-10T21:46:42.860389Z",
     "shell.execute_reply": "2023-07-10T21:46:42.859448Z"
    },
    "papermill": {
     "duration": 0.051019,
     "end_time": "2023-07-10T21:46:42.862478",
     "exception": false,
     "start_time": "2023-07-10T21:46:42.811459",
     "status": "completed"
    },
    "tags": []
   },
   "outputs": [
    {
     "data": {
      "text/plain": [
       "<tf.Tensor: shape=(3, 512), dtype=float32, numpy=\n",
       "array([[ 0.03993586, -0.05565797,  0.03880183, ..., -0.04728298,\n",
       "        -0.05227224, -0.05012098],\n",
       "       [ 0.00345374, -0.05973887, -0.01852854, ...,  0.0113207 ,\n",
       "        -0.05845341,  0.04555184],\n",
       "       [ 0.03767198, -0.06405722,  0.01347981, ...,  0.04687415,\n",
       "        -0.05737387, -0.02440244]], dtype=float32)>"
      ]
     },
     "execution_count": 28,
     "metadata": {},
     "output_type": "execute_result"
    }
   ],
   "source": [
    "test_embed = embed(test_df['full_text'])\n",
    "test_embed"
   ]
  },
  {
   "cell_type": "code",
   "execution_count": 29,
   "id": "a5387858",
   "metadata": {
    "execution": {
     "iopub.execute_input": "2023-07-10T21:46:42.914755Z",
     "iopub.status.busy": "2023-07-10T21:46:42.914337Z",
     "iopub.status.idle": "2023-07-10T21:46:43.845500Z",
     "shell.execute_reply": "2023-07-10T21:46:43.844477Z"
    },
    "papermill": {
     "duration": 0.959143,
     "end_time": "2023-07-10T21:46:43.847974",
     "exception": false,
     "start_time": "2023-07-10T21:46:42.888831",
     "status": "completed"
    },
    "tags": []
   },
   "outputs": [
    {
     "name": "stdout",
     "output_type": "stream",
     "text": [
      "1/1 [==============================] - 1s 773ms/step\n"
     ]
    }
   ],
   "source": [
    "preds = model.predict(test_embed)"
   ]
  },
  {
   "cell_type": "code",
   "execution_count": 30,
   "id": "b8967c97",
   "metadata": {
    "execution": {
     "iopub.execute_input": "2023-07-10T21:46:43.898560Z",
     "iopub.status.busy": "2023-07-10T21:46:43.897679Z",
     "iopub.status.idle": "2023-07-10T21:46:43.904889Z",
     "shell.execute_reply": "2023-07-10T21:46:43.903801Z"
    },
    "papermill": {
     "duration": 0.03464,
     "end_time": "2023-07-10T21:46:43.907275",
     "exception": false,
     "start_time": "2023-07-10T21:46:43.872635",
     "status": "completed"
    },
    "tags": []
   },
   "outputs": [
    {
     "data": {
      "text/plain": [
       "array([[3.1100385, 3.070659 , 3.2566898, 3.0985339, 3.0500948, 3.0813792],\n",
       "       [3.1100385, 3.070659 , 3.2566898, 3.0985339, 3.0500948, 3.0813792],\n",
       "       [3.1100385, 3.070659 , 3.2566898, 3.0985339, 3.0500948, 3.0813792]],\n",
       "      dtype=float32)"
      ]
     },
     "execution_count": 30,
     "metadata": {},
     "output_type": "execute_result"
    }
   ],
   "source": [
    "preds"
   ]
  },
  {
   "cell_type": "code",
   "execution_count": 31,
   "id": "e11b075a",
   "metadata": {
    "execution": {
     "iopub.execute_input": "2023-07-10T21:46:43.960550Z",
     "iopub.status.busy": "2023-07-10T21:46:43.959760Z",
     "iopub.status.idle": "2023-07-10T21:46:43.965303Z",
     "shell.execute_reply": "2023-07-10T21:46:43.964346Z"
    },
    "papermill": {
     "duration": 0.034236,
     "end_time": "2023-07-10T21:46:43.967314",
     "exception": false,
     "start_time": "2023-07-10T21:46:43.933078",
     "status": "completed"
    },
    "tags": []
   },
   "outputs": [],
   "source": [
    "sub_df = pd.DataFrame(preds, columns=['cohesion', 'syntax', 'vocabulary', 'phraseology', 'grammar', 'conventions'])"
   ]
  },
  {
   "cell_type": "code",
   "execution_count": 32,
   "id": "a9e41721",
   "metadata": {
    "execution": {
     "iopub.execute_input": "2023-07-10T21:46:44.016407Z",
     "iopub.status.busy": "2023-07-10T21:46:44.016122Z",
     "iopub.status.idle": "2023-07-10T21:46:44.023391Z",
     "shell.execute_reply": "2023-07-10T21:46:44.022315Z"
    },
    "papermill": {
     "duration": 0.034352,
     "end_time": "2023-07-10T21:46:44.025733",
     "exception": false,
     "start_time": "2023-07-10T21:46:43.991381",
     "status": "completed"
    },
    "tags": []
   },
   "outputs": [],
   "source": [
    "sub_df.insert(0, 'text_id', test_df['text_id'])"
   ]
  },
  {
   "cell_type": "code",
   "execution_count": 33,
   "id": "5b55e40b",
   "metadata": {
    "execution": {
     "iopub.execute_input": "2023-07-10T21:46:44.075637Z",
     "iopub.status.busy": "2023-07-10T21:46:44.074808Z",
     "iopub.status.idle": "2023-07-10T21:46:44.088035Z",
     "shell.execute_reply": "2023-07-10T21:46:44.086949Z"
    },
    "papermill": {
     "duration": 0.040446,
     "end_time": "2023-07-10T21:46:44.090235",
     "exception": false,
     "start_time": "2023-07-10T21:46:44.049789",
     "status": "completed"
    },
    "tags": []
   },
   "outputs": [
    {
     "data": {
      "text/html": [
       "<div>\n",
       "<style scoped>\n",
       "    .dataframe tbody tr th:only-of-type {\n",
       "        vertical-align: middle;\n",
       "    }\n",
       "\n",
       "    .dataframe tbody tr th {\n",
       "        vertical-align: top;\n",
       "    }\n",
       "\n",
       "    .dataframe thead th {\n",
       "        text-align: right;\n",
       "    }\n",
       "</style>\n",
       "<table border=\"1\" class=\"dataframe\">\n",
       "  <thead>\n",
       "    <tr style=\"text-align: right;\">\n",
       "      <th></th>\n",
       "      <th>text_id</th>\n",
       "      <th>cohesion</th>\n",
       "      <th>syntax</th>\n",
       "      <th>vocabulary</th>\n",
       "      <th>phraseology</th>\n",
       "      <th>grammar</th>\n",
       "      <th>conventions</th>\n",
       "    </tr>\n",
       "  </thead>\n",
       "  <tbody>\n",
       "    <tr>\n",
       "      <th>0</th>\n",
       "      <td>0000C359D63E</td>\n",
       "      <td>3.110039</td>\n",
       "      <td>3.070659</td>\n",
       "      <td>3.25669</td>\n",
       "      <td>3.098534</td>\n",
       "      <td>3.050095</td>\n",
       "      <td>3.081379</td>\n",
       "    </tr>\n",
       "    <tr>\n",
       "      <th>1</th>\n",
       "      <td>000BAD50D026</td>\n",
       "      <td>3.110039</td>\n",
       "      <td>3.070659</td>\n",
       "      <td>3.25669</td>\n",
       "      <td>3.098534</td>\n",
       "      <td>3.050095</td>\n",
       "      <td>3.081379</td>\n",
       "    </tr>\n",
       "    <tr>\n",
       "      <th>2</th>\n",
       "      <td>00367BB2546B</td>\n",
       "      <td>3.110039</td>\n",
       "      <td>3.070659</td>\n",
       "      <td>3.25669</td>\n",
       "      <td>3.098534</td>\n",
       "      <td>3.050095</td>\n",
       "      <td>3.081379</td>\n",
       "    </tr>\n",
       "  </tbody>\n",
       "</table>\n",
       "</div>"
      ],
      "text/plain": [
       "        text_id  cohesion    syntax  vocabulary  phraseology   grammar  \\\n",
       "0  0000C359D63E  3.110039  3.070659     3.25669     3.098534  3.050095   \n",
       "1  000BAD50D026  3.110039  3.070659     3.25669     3.098534  3.050095   \n",
       "2  00367BB2546B  3.110039  3.070659     3.25669     3.098534  3.050095   \n",
       "\n",
       "   conventions  \n",
       "0     3.081379  \n",
       "1     3.081379  \n",
       "2     3.081379  "
      ]
     },
     "execution_count": 33,
     "metadata": {},
     "output_type": "execute_result"
    }
   ],
   "source": [
    "sub_df"
   ]
  },
  {
   "cell_type": "code",
   "execution_count": 34,
   "id": "b42024c6",
   "metadata": {
    "execution": {
     "iopub.execute_input": "2023-07-10T21:46:44.140031Z",
     "iopub.status.busy": "2023-07-10T21:46:44.139240Z",
     "iopub.status.idle": "2023-07-10T21:46:44.146494Z",
     "shell.execute_reply": "2023-07-10T21:46:44.145659Z"
    },
    "papermill": {
     "duration": 0.034218,
     "end_time": "2023-07-10T21:46:44.148574",
     "exception": false,
     "start_time": "2023-07-10T21:46:44.114356",
     "status": "completed"
    },
    "tags": []
   },
   "outputs": [],
   "source": [
    "sub_df.to_csv('submission.csv', index=False)"
   ]
  }
 ],
 "metadata": {
  "kernelspec": {
   "display_name": "Python 3",
   "language": "python",
   "name": "python3"
  },
  "language_info": {
   "codemirror_mode": {
    "name": "ipython",
    "version": 3
   },
   "file_extension": ".py",
   "mimetype": "text/x-python",
   "name": "python",
   "nbconvert_exporter": "python",
   "pygments_lexer": "ipython3",
   "version": "3.10.10"
  },
  "papermill": {
   "default_parameters": {},
   "duration": 452.111544,
   "end_time": "2023-07-10T21:46:48.248705",
   "environment_variables": {},
   "exception": null,
   "input_path": "__notebook__.ipynb",
   "output_path": "__notebook__.ipynb",
   "parameters": {},
   "start_time": "2023-07-10T21:39:16.137161",
   "version": "2.4.0"
  }
 },
 "nbformat": 4,
 "nbformat_minor": 5
}
